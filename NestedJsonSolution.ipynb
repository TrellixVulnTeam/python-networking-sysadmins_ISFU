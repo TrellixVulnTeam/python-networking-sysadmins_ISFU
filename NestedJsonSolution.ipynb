{
 "cells": [
  {
   "cell_type": "code",
   "execution_count": 1,
   "metadata": {},
   "outputs": [],
   "source": [
    "def extract_element_from_json(obj, path):\n",
    "    '''\n",
    "    Extracts an element from a nested dictionary or\n",
    "    a list of nested dictionaries along a specified path.\n",
    "    If the input is a dictionary, a list is returned.\n",
    "    If the input is a list of dictionary, a list of lists is returned.\n",
    "    obj - list or dict - input dictionary or list of dictionaries\n",
    "    path - list - list of strings that form the path to the desired element\n",
    "    '''\n",
    "    def extract(obj, path, ind, arr):\n",
    "        '''\n",
    "            Extracts an element from a nested dictionary\n",
    "            along a specified path and returns a list.\n",
    "            obj - dict - input dictionary\n",
    "            path - list - list of strings that form the JSON path\n",
    "            ind - int - starting index\n",
    "            arr - list - output list\n",
    "        '''\n",
    "        key = path[ind]\n",
    "        if ind + 1 < len(path):\n",
    "            if isinstance(obj, dict):\n",
    "                if key in obj.keys():\n",
    "                    extract(obj.get(key), path, ind + 1, arr)\n",
    "                else:\n",
    "                    arr.append(None)\n",
    "            elif isinstance(obj, list):\n",
    "                if not obj:\n",
    "                    arr.append(None)\n",
    "                else:\n",
    "                    for item in obj:\n",
    "                        extract(item, path, ind, arr)\n",
    "            else:\n",
    "                arr.append(None)\n",
    "        if ind + 1 == len(path):\n",
    "            if isinstance(obj, list):\n",
    "                if not obj:\n",
    "                    arr.append(None)\n",
    "                else:\n",
    "                    for item in obj:\n",
    "                        arr.append(item.get(key, None))\n",
    "            elif isinstance(obj, dict):\n",
    "                arr.append(obj.get(key, None))\n",
    "            else:\n",
    "                arr.append(None)\n",
    "        return arr\n",
    "    if isinstance(obj, dict):\n",
    "        return extract(obj, path, 0, [])\n",
    "    elif isinstance(obj, list):\n",
    "        outer_arr = []\n",
    "        for item in obj:\n",
    "            outer_arr.append(extract(item, path, 0, []))\n",
    "        return outer_arr"
   ]
  },
  {
   "cell_type": "code",
   "execution_count": 12,
   "metadata": {},
   "outputs": [],
   "source": [
    "data = {\"employees\":[{\"name\": \"Ernesto\", \"role\": \"dev\", \"nbr\": 1}, {\"name\": \"Kimberly\", \"role\": \"dev\", \"nbr\": 2}], \"firm\":{\"name\": \"Charlie's Waffle Emporium\", \"location\": \"CA\"}}"
   ]
  },
  {
   "cell_type": "code",
   "execution_count": 14,
   "metadata": {},
   "outputs": [
    {
     "data": {
      "text/plain": [
       "[\"Charlie's Waffle Emporium\"]"
      ]
     },
     "execution_count": 14,
     "metadata": {},
     "output_type": "execute_result"
    }
   ],
   "source": [
    "extract_element_from_json(data, [\"firm\", \"name\"])"
   ]
  },
  {
   "cell_type": "code",
   "execution_count": 10,
   "metadata": {},
   "outputs": [],
   "source": [
    "{\n",
    "  \"employees\":\n",
    "    [\n",
    "      {\n",
    "        \"name\": \"Alice\",\n",
    "        \"role\": \"dev\",\n",
    "        \"nbr\": 1\n",
    "      },\n",
    "      {\n",
    "        \"name\": \"Bob\",\n",
    "        \"role\": \"dev\",\n",
    "        \"nbr\": 2\n",
    "      }\n",
    "    ],\n",
    "  \"firm\":\n",
    "    {\n",
    "      \"name\": \"Charlie's Waffle Emporium\",\n",
    "      \"location\": \"CA\"\n",
    "    }\n",
    "}"
   ]
  },
  {
   "cell_type": "code",
   "execution_count": 11,
   "metadata": {},
   "outputs": [
    {
     "data": {
      "text/plain": [
       "[None]"
      ]
     },
     "execution_count": 11,
     "metadata": {},
     "output_type": "execute_result"
    }
   ],
   "source": []
  },
  {
   "cell_type": "code",
   "execution_count": null,
   "metadata": {},
   "outputs": [],
   "source": []
  }
 ],
 "metadata": {
  "kernelspec": {
   "display_name": "Python 3",
   "language": "python",
   "name": "python3"
  },
  "language_info": {
   "codemirror_mode": {
    "name": "ipython",
    "version": 3
   },
   "file_extension": ".py",
   "mimetype": "text/x-python",
   "name": "python",
   "nbconvert_exporter": "python",
   "pygments_lexer": "ipython3",
   "version": "3.8.6"
  }
 },
 "nbformat": 4,
 "nbformat_minor": 4
}
