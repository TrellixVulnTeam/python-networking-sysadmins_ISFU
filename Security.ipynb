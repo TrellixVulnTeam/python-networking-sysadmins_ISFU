{
 "cells": [
  {
   "cell_type": "code",
   "execution_count": null,
   "metadata": {},
   "outputs": [],
   "source": []
  },
  {
   "cell_type": "code",
   "execution_count": null,
   "metadata": {},
   "outputs": [],
   "source": []
  },
  {
   "cell_type": "code",
   "execution_count": 10,
   "metadata": {},
   "outputs": [
    {
     "name": "stdout",
     "output_type": "stream",
     "text": [
      "{\n",
      "  \"authenticated\": true, \n",
      "  \"user\": \"admin\"\n",
      "}\n",
      "\n"
     ]
    }
   ],
   "source": [
    "import requests\n",
    "from requests.auth import HTTPDigestAuth\n",
    "response_data = requests.get('https://httpbin.org/digest-auth/auth/admin/admin123', auth = HTTPDigestAuth('admin', 'admin123'))\n",
    "print(response_data.text)\n"
   ]
  },
  {
   "cell_type": "code",
   "execution_count": 11,
   "metadata": {},
   "outputs": [
    {
     "name": "stdout",
     "output_type": "stream",
     "text": [
      "https://accounts.google.com/signin/oauth/error?authError=Cg5pbnZhbGlkX2NsaWVudBIfVGhlIE9BdXRoIGNsaWVudCB3YXMgbm90IGZvdW5kLiCRAw%3D%3D&client_id=xxxxxxxxxxxxxxxxxxxxxxxxxx.apps.googleusercontent.com\n"
     ]
    }
   ],
   "source": [
    "import requests\n",
    "from requests_oauth2.services import GoogleClient\n",
    "google_auth = GoogleClient(client_id=\"xxxxxxxxxxxxxxxxxxxxxxxxxx.apps.googleusercontent.com\", redirect_uri=\"http://localhost/auth/success.html\",\n",
    ")\n",
    "a = google_auth.authorize_url(scope=[\"profile\", \"email\"], response_type=\"code\",\n",
    ")\n",
    "res = requests.get(a)\n",
    "print(res.url)"
   ]
  },
  {
   "cell_type": "code",
   "execution_count": null,
   "metadata": {},
   "outputs": [],
   "source": []
  }
 ],
 "metadata": {
  "kernelspec": {
   "display_name": "Python 3",
   "language": "python",
   "name": "python3"
  },
  "language_info": {
   "codemirror_mode": {
    "name": "ipython",
    "version": 3
   },
   "file_extension": ".py",
   "mimetype": "text/x-python",
   "name": "python",
   "nbconvert_exporter": "python",
   "pygments_lexer": "ipython3",
   "version": "3.8.6"
  }
 },
 "nbformat": 4,
 "nbformat_minor": 4
}
