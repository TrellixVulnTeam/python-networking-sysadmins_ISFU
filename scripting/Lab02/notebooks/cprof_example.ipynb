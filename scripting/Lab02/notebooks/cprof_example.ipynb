{
  "cells": [
    {
      "cell_type": "code",
      "metadata": {},
      "source": [
        "mul_value = 0 \n",
        "def mul_numbers( num1, num2 ):\n",
        "\tmul_value = num1 * num2; \n",
        "\tprint (\"Local Value: \", mul_value)\n",
        "\treturn mul_value\n",
        "mul_numbers( 58, 77 )\n",
        "print (\"Global Value: \", mul_value)\n",
        "\n"
      ],
      "outputs": [],
      "execution_count": null
    }
  ],
  "metadata": {
    "anaconda-cloud": {},
    "kernelspec": {
      "display_name": "Python 3",
      "language": "python",
      "name": "python3"
    },
    "language_info": {
      "codemirror_mode": {
        "name": "ipython",
        "version": 3
      },
      "file_extension": ".py",
      "mimetype": "text/x-python",
      "name": "python",
      "nbconvert_exporter": "python",
      "pygments_lexer": "ipython3",
      "version": "3.6.1"
    }
  },
  "nbformat": 4,
  "nbformat_minor": 4
}