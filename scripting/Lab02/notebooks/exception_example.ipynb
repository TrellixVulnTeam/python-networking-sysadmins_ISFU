{
  "cells": [
    {
      "cell_type": "code",
      "metadata": {},
      "source": [
        "a = 35\n",
        "b = 57\n",
        "try:\n",
        "\tc = a + b\n",
        "\tprint(\"The value of c is: \", c)\n",
        "\td = b / 0\n",
        "\tprint(\"The value of d is: \", d)\n",
        "\n",
        "except:\n",
        "\tprint(\"Division by zero is not possible\")\n",
        "\n",
        "print(\"Out of try...except block\")\n",
        "\n",
        "\n"
      ],
      "outputs": [],
      "execution_count": null
    }
  ],
  "metadata": {
    "anaconda-cloud": {},
    "kernelspec": {
      "display_name": "Python 3",
      "language": "python",
      "name": "python3"
    },
    "language_info": {
      "codemirror_mode": {
        "name": "ipython",
        "version": 3
      },
      "file_extension": ".py",
      "mimetype": "text/x-python",
      "name": "python",
      "nbconvert_exporter": "python",
      "pygments_lexer": "ipython3",
      "version": "3.6.1"
    }
  },
  "nbformat": 4,
  "nbformat_minor": 4
}