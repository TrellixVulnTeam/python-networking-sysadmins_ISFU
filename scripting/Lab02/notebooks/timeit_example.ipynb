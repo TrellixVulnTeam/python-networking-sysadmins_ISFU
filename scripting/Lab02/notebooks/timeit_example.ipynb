{
  "cells": [
    {
      "cell_type": "code",
      "metadata": {},
      "source": [
        "import timeit\n",
        "prg_setup = \"from math import sqrt\"\n",
        "prg_code = '''\n",
        "def timeit_example():\n",
        "\tlist1 = []\n",
        "\tfor x in range(50):\n",
        "\t\tlist1.append(sqrt(x))\n",
        "''' \n",
        "# timeit statement\n",
        "print(timeit.timeit(setup = prg_setup, stmt = prg_code, number = 10000))\n",
        "\n"
      ],
      "outputs": [],
      "execution_count": null
    }
  ],
  "metadata": {
    "anaconda-cloud": {},
    "kernelspec": {
      "display_name": "Python 3",
      "language": "python",
      "name": "python3"
    },
    "language_info": {
      "codemirror_mode": {
        "name": "ipython",
        "version": 3
      },
      "file_extension": ".py",
      "mimetype": "text/x-python",
      "name": "python",
      "nbconvert_exporter": "python",
      "pygments_lexer": "ipython3",
      "version": "3.6.1"
    }
  },
  "nbformat": 4,
  "nbformat_minor": 4
}