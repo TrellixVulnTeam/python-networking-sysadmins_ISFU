{
  "cells": [
    {
      "cell_type": "code",
      "metadata": {},
      "source": [
        "class Student:\n",
        "\tdef __init__(self, std):\n",
        "\t\tself.count = std\n",
        "\n",
        "\tdef go(self):\n",
        "\t\tfor i in range(self.count):\n",
        "\t\t\tprint(i)\n",
        "\t\treturn\n",
        "if __name__ == '__main__':\n",
        "\tStudent(5).go()\n"
      ],
      "outputs": [],
      "execution_count": null
    }
  ],
  "metadata": {
    "anaconda-cloud": {},
    "kernelspec": {
      "display_name": "Python 3",
      "language": "python",
      "name": "python3"
    },
    "language_info": {
      "codemirror_mode": {
        "name": "ipython",
        "version": 3
      },
      "file_extension": ".py",
      "mimetype": "text/x-python",
      "name": "python",
      "nbconvert_exporter": "python",
      "pygments_lexer": "ipython3",
      "version": "3.6.1"
    }
  },
  "nbformat": 4,
  "nbformat_minor": 4
}