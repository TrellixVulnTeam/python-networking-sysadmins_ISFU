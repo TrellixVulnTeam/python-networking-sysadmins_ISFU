{
  "cells": [
    {
      "cell_type": "code",
      "metadata": {},
      "source": [
        "# In this script, we are going to create a 4 functions: add_numbers, sub_numbers, mul_numbers, div_numbers.\n",
        "def add_numbers(x, y):\n",
        "\treturn x + y\n",
        "\n",
        "def sub_numbers(x, y):\n",
        "\treturn x - y\n",
        "\n",
        "def mul_numbers(x, y):\n",
        "\treturn x * y\n",
        "\n",
        "def div_numbers(x, y):\n",
        "\treturn (x / y)\n",
        "\n"
      ],
      "outputs": [],
      "execution_count": null
    }
  ],
  "metadata": {
    "anaconda-cloud": {},
    "kernelspec": {
      "display_name": "Python 3",
      "language": "python",
      "name": "python3"
    },
    "language_info": {
      "codemirror_mode": {
        "name": "ipython",
        "version": 3
      },
      "file_extension": ".py",
      "mimetype": "text/x-python",
      "name": "python",
      "nbconvert_exporter": "python",
      "pygments_lexer": "ipython3",
      "version": "3.6.1"
    }
  },
  "nbformat": 4,
  "nbformat_minor": 4
}