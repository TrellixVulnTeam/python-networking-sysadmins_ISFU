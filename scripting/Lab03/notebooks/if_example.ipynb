{
  "cells": [
    {
      "cell_type": "code",
      "metadata": {},
      "source": [
        "def check_if():\n",
        "\ta = int(input(\"Enter a number \\n\"))\n",
        "\tif (a == 100):\n",
        "\t\tprint(\"a is equal to 100\")\n",
        "\n",
        "\telse:\n",
        "\t\tprint(\"a is not equal to 100\")\n",
        "\n",
        "\treturn a\n"
      ],
      "outputs": [],
      "execution_count": null
    }
  ],
  "metadata": {
    "anaconda-cloud": {},
    "kernelspec": {
      "display_name": "Python 3",
      "language": "python",
      "name": "python3"
    },
    "language_info": {
      "codemirror_mode": {
        "name": "ipython",
        "version": 3
      },
      "file_extension": ".py",
      "mimetype": "text/x-python",
      "name": "python",
      "nbconvert_exporter": "python",
      "pygments_lexer": "ipython3",
      "version": "3.6.1"
    }
  },
  "nbformat": 4,
  "nbformat_minor": 4
}