{
  "cells": [
    {
      "cell_type": "code",
      "metadata": {},
      "source": [
        "import arithmetic\n",
        "import unittest\n",
        "# Testing add_numbers function from arithmetic.\n",
        "class Test_addition(unittest.TestCase):\n",
        "\t# Testing Integers\n",
        "\tdef test_add_numbers_int(self):\n",
        "\t\tsum = arithmetic.add_numbers(50, 50)\n",
        "\t\tself.assertEqual(sum, 100)\n",
        "\n",
        "\t# Testing Floats\n",
        "\tdef test_add_numbers_float(self):\n",
        "\t\tsum = arithmetic.add_numbers(50.55, 78)\n",
        "\t\tself.assertEqual(sum, 128.55)\n",
        "\n",
        "\t# Testing Strings\n",
        "\tdef test_add_numbers_strings(self):\n",
        "\t\tsum = arithmetic.add_numbers('hello','python')\n",
        "\t\tself.assertEqual(sum, 'hellopython')\n",
        "\n",
        "class Test_subtraction(unittest.TestCase):\n",
        "\t# Testing Integers\n",
        "\tdef test_sub_numbers_int(self):\n",
        "\t\tdiff = arithmetic.sub_numbers(50, 50)\n",
        "\t\tself.assertEqual(diff, 0)\n",
        "\n",
        "\t# Testing Floats\n",
        "\tdef test_sub_numbers_float(self):\n",
        "\t\tdiff = arithmetic.sub_numbers(80.00, 78)\n",
        "\t\tself.assertEqual(diff, 2.00)\n",
        "\n",
        "class Test_multiplication(unittest.TestCase):\n",
        "\t# Testing Integers\n",
        "\tdef test_mul_numbers_int(self):\n",
        "\t\tmulti = arithmetic.mul_numbers(78, 46)\n",
        "\t\tself.assertEqual(multi, 3588)\n",
        "\n",
        "\t# Testing Floats\n",
        "\tdef test_mul_numbers_float(self):\n",
        "\t\tmulti = arithmetic.mul_numbers(77.85, 8)\n",
        "\t\tself.assertEqual(multi, 622.8)\n",
        "\n",
        "class Test_division(unittest.TestCase):\n",
        "\t# Testing Integers\n",
        "\tdef test_div_numbers_int(self):\n",
        "\t\tquotient = arithmetic.div_numbers(78, 2)\n",
        "\t\tself.assertEqual(quotient, 39)\n",
        "\n",
        "\t# Testing Floats\n",
        "\tdef test_div_numbers_float(self):\n",
        "\t\tquotient = arithmetic.div_numbers(77.8, 2)\n",
        "\t\tself.assertEqual(quotient, 38.9)\n",
        "\n",
        "if __name__ == '__main__':\n",
        "\tunittest.main()\n"
      ],
      "outputs": [],
      "execution_count": null
    }
  ],
  "metadata": {
    "anaconda-cloud": {},
    "kernelspec": {
      "display_name": "Python 3",
      "language": "python",
      "name": "python3"
    },
    "language_info": {
      "codemirror_mode": {
        "name": "ipython",
        "version": 3
      },
      "file_extension": ".py",
      "mimetype": "text/x-python",
      "name": "python",
      "nbconvert_exporter": "python",
      "pygments_lexer": "ipython3",
      "version": "3.6.1"
    }
  },
  "nbformat": 4,
  "nbformat_minor": 4
}