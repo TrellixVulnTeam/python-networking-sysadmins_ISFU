{
  "cells": [
    {
      "cell_type": "code",
      "metadata": {},
      "source": [
        "import sys\n",
        "import paramiko\n",
        "import time\n",
        "ip_address = \"localhost\"\n",
        "username = \"student\"\n",
        "password = \"training\"\n",
        "ssh_client = paramiko.SSHClient()\n",
        "ssh_client.set_missing_host_key_policy(paramiko.AutoAddPolicy())\n",
        "ssh_client.load_system_host_keys()\n",
        "ssh_client.connect(hostname=ip_address,\\\n",
        "\t\t\tusername=username, password=password)\n",
        "print (\"Successful connection\", ip_address)\n",
        "ssh_client.invoke_shell()\n",
        "remote_connection = ssh_client.exec_command('cd Desktop; mkdir work\\n')\n",
        "remote_connection = ssh_client.exec_command('mkdir test_folder\\n')\n",
        "#print( remote_connection.read() )\n",
        "ssh_client.close\n",
        "\n"
      ],
      "outputs": [],
      "execution_count": null
    }
  ],
  "metadata": {
    "anaconda-cloud": {},
    "kernelspec": {
      "display_name": "Python 3",
      "language": "python",
      "name": "python3"
    },
    "language_info": {
      "codemirror_mode": {
        "name": "ipython",
        "version": 3
      },
      "file_extension": ".py",
      "mimetype": "text/x-python",
      "name": "python",
      "nbconvert_exporter": "python",
      "pygments_lexer": "ipython3",
      "version": "3.6.1"
    }
  },
  "nbformat": 4,
  "nbformat_minor": 4
}