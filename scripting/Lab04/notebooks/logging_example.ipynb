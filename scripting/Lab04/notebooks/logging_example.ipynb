{
  "cells": [
    {
      "cell_type": "code",
      "metadata": {},
      "source": [
        "import logging\n",
        "LOG_FILENAME = 'hello.py'\n",
        "logging.basicConfig(filename=LOG_FILENAME, level=logging.DEBUG,)\n",
        "logging.debug('This message should go to the log file')\n",
        "with open(LOG_FILENAME, 'rt') as f:\n",
        "\tprg = f.read()\n",
        "print('FILE:')\n",
        "print(prg) \n",
        "\n"
      ],
      "outputs": [],
      "execution_count": null
    }
  ],
  "metadata": {
    "anaconda-cloud": {},
    "kernelspec": {
      "display_name": "Python 3",
      "language": "python",
      "name": "python3"
    },
    "language_info": {
      "codemirror_mode": {
        "name": "ipython",
        "version": 3
      },
      "file_extension": ".py",
      "mimetype": "text/x-python",
      "name": "python",
      "nbconvert_exporter": "python",
      "pygments_lexer": "ipython3",
      "version": "3.6.1"
    }
  },
  "nbformat": 4,
  "nbformat_minor": 4
}