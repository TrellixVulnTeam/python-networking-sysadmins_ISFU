{
  "cells": [
    {
      "cell_type": "code",
      "metadata": {},
      "source": [
        "import os\n",
        "directory_name = 'abcd'\n",
        "print('Creating', directory_name)\n",
        "os.makedirs(directory_name)\n",
        "file_name = os.path.join(directory_name, 'sample_example.txt')\n",
        "print('Creating', file_name)\n",
        "with open(file_name, 'wt') as f:\n",
        "\tf.write('sample example file')\n",
        "print('Cleaning up')\n",
        "os.unlink(file_name)\n",
        "os.rmdir(directory_name)\t# Will delete the directory\n",
        "\n"
      ],
      "outputs": [],
      "execution_count": null
    }
  ],
  "metadata": {
    "anaconda-cloud": {},
    "kernelspec": {
      "display_name": "Python 3",
      "language": "python",
      "name": "python3"
    },
    "language_info": {
      "codemirror_mode": {
        "name": "ipython",
        "version": 3
      },
      "file_extension": ".py",
      "mimetype": "text/x-python",
      "name": "python",
      "nbconvert_exporter": "python",
      "pygments_lexer": "ipython3",
      "version": "3.6.1"
    }
  },
  "nbformat": 4,
  "nbformat_minor": 4
}