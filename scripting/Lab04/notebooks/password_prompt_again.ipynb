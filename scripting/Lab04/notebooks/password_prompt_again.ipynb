{
  "cells": [
    {
      "cell_type": "code",
      "metadata": {},
      "source": [
        "import getpass\n",
        "user_name = getpass.getuser()\n",
        "print (\"User Name : %s\" % user_name)\n",
        "while True:\n",
        "\tpasswd = getpass.getpass(\"Enter your Password : \")\n",
        " \tif passwd == '#pythonworld':\n",
        "\t\tprint (\"Welcome!!!\")\n",
        "\t\tbreak\n",
        "\telse:\n",
        "\t\tprint (\"The password you entered is incorrect.\")\n",
        "\n"
      ],
      "outputs": [],
      "execution_count": null
    }
  ],
  "metadata": {
    "anaconda-cloud": {},
    "kernelspec": {
      "display_name": "Python 3",
      "language": "python",
      "name": "python3"
    },
    "language_info": {
      "codemirror_mode": {
        "name": "ipython",
        "version": 3
      },
      "file_extension": ".py",
      "mimetype": "text/x-python",
      "name": "python",
      "nbconvert_exporter": "python",
      "pygments_lexer": "ipython3",
      "version": "3.6.1"
    }
  },
  "nbformat": 4,
  "nbformat_minor": 4
}