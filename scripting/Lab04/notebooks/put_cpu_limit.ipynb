{
  "cells": [
    {
      "cell_type": "code",
      "metadata": {},
      "source": [
        "import resource\n",
        "import sys\n",
        "import signal\n",
        "import time\n",
        "def time_expired(n, stack):\n",
        "\tprint('EXPIRED :', time.ctime())\n",
        "\traise SystemExit('(time ran out)')\n",
        "signal.signal(signal.SIGXCPU, time_expired)\n",
        "# Adjust the CPU time limit\n",
        "soft, hard = resource.getrlimit(resource.RLIMIT_CPU)\n",
        "print('Soft limit starts as  :', soft)\n",
        "resource.setrlimit(resource.RLIMIT_CPU, (10, hard))\n",
        "soft, hard = resource.getrlimit(resource.RLIMIT_CPU)\n",
        "print('Soft limit changed to :', soft)\n",
        "print()\n",
        "# Consume some CPU time in a pointless exercise\n",
        "print('Starting:', time.ctime())\n",
        "for i in range(200000):\n",
        "\tfor i in range(200000):\n",
        "\t\tv = i * i\n",
        "# We should never make it this far\n",
        "print('Exiting :', time.ctime())\n",
        "\n"
      ],
      "outputs": [],
      "execution_count": null
    }
  ],
  "metadata": {
    "anaconda-cloud": {},
    "kernelspec": {
      "display_name": "Python 3",
      "language": "python",
      "name": "python3"
    },
    "language_info": {
      "codemirror_mode": {
        "name": "ipython",
        "version": 3
      },
      "file_extension": ".py",
      "mimetype": "text/x-python",
      "name": "python",
      "nbconvert_exporter": "python",
      "pygments_lexer": "ipython3",
      "version": "3.6.1"
    }
  },
  "nbformat": 4,
  "nbformat_minor": 4
}