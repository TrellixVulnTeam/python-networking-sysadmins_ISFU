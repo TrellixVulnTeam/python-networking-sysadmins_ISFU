{
  "cells": [
    {
      "cell_type": "code",
      "metadata": {},
      "source": [
        "from configparser import ConfigParser\n",
        "import glob\n",
        "p = ConfigParser()\n",
        "files = ['hello.ini', 'bye.ini', 'read_simple.ini', 'welcome.ini']\n",
        "files_found = p.read(files)\n",
        "files_missing = set(files) - set(files_found)\n",
        "print('Files found:  ', sorted(files_found))\n",
        "print('Files missing:  ', sorted(files_missing))\n",
        "\n"
      ],
      "outputs": [],
      "execution_count": null
    }
  ],
  "metadata": {
    "anaconda-cloud": {},
    "kernelspec": {
      "display_name": "Python 3",
      "language": "python",
      "name": "python3"
    },
    "language_info": {
      "codemirror_mode": {
        "name": "ipython",
        "version": 3
      },
      "file_extension": ".py",
      "mimetype": "text/x-python",
      "name": "python",
      "nbconvert_exporter": "python",
      "pygments_lexer": "ipython3",
      "version": "3.6.1"
    }
  },
  "nbformat": 4,
  "nbformat_minor": 4
}