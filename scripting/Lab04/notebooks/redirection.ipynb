{
  "cells": [
    {
      "cell_type": "code",
      "metadata": {},
      "source": [
        "import sys\n",
        "class Redirection(object):\n",
        "\tdef __init__(self, in_obj, out_obj):\n",
        "\t\tself.input = in_obj\n",
        "\t\tself.output = out_obj\n",
        "\n",
        "\tdef read_line(self):\n",
        "\t\tres = self.input.readline()\n",
        "\t\tself.output.write(res)\n",
        "\t\treturn res\n",
        "\n",
        "if __name__ == '__main__':\n",
        "\tif not sys.stdin.isatty():\n",
        "\t\tsys.stdin = Redirection(in_obj=sys.stdin, out_obj=sys.stdout)\n",
        "\n",
        "\ta = input('Enter a string: ')\n",
        "\tb = input('Enter another string: ')\n",
        "\tprint ('Entered strings are: ', repr(a), 'and', repr(b))\n",
        "\n"
      ],
      "outputs": [],
      "execution_count": null
    }
  ],
  "metadata": {
    "anaconda-cloud": {},
    "kernelspec": {
      "display_name": "Python 3",
      "language": "python",
      "name": "python3"
    },
    "language_info": {
      "codemirror_mode": {
        "name": "ipython",
        "version": 3
      },
      "file_extension": ".py",
      "mimetype": "text/x-python",
      "name": "python",
      "nbconvert_exporter": "python",
      "pygments_lexer": "ipython3",
      "version": "3.6.1"
    }
  },
  "nbformat": 4,
  "nbformat_minor": 4
}