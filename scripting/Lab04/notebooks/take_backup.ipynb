{
  "cells": [
    {
      "cell_type": "code",
      "metadata": {},
      "source": [
        "import os\n",
        "import shutil\n",
        "import time\n",
        "from sh import *\n",
        "def check_dir(os_dir):\n",
        "\tif not os.path.exists(os_dir):\n",
        "\t\tprint (os_dir, \"does not exist.\")\n",
        "\t\texit(1)\n",
        "def ask_for_confirm():\n",
        "\tans = input(\"Do you want to Continue? yes/no\\n\")\n",
        "\tglobal con_exit\n",
        "\tif ans == 'yes':\n",
        "\t\tcon_exit = 0\n",
        "\t\treturn con_exit\n",
        "\telif ans == \"no\":\n",
        "\t\tcon_exit = 1\n",
        "\t\treturn con_exit\n",
        "\telse:\n",
        "\t\tprint (\"Answer with yes or no.\")\n",
        "\t\task_for_confirm()\n",
        "def delete_files(ending):\n",
        "\tfor r, d, f in os.walk(backup_dir):\n",
        "\t\tfor files in f:\n",
        "\t\t\tif files.endswith(\".\" + ending):\n",
        "\t\t\t\tos.remove(os.path.join(r, files))\n",
        "backup_dir = input(\"Enter directory to backup\\n\")\t# Enter directory name\n",
        "check_dir(backup_dir)\n",
        "print (backup_dir, \"saved.\")\n",
        "time.sleep(3)\n",
        "backup_to_dir= input(\"Where to backup?\\n\")\n",
        "check_dir(backup_to_dir)\n",
        "print (\"Doing the backup now!\")\n",
        "ask_for_confirm()\n",
        "if con_exit == 1:\n",
        "\tprint (\"Aborting the backup process!\")\n",
        "\texit(1)\n",
        "rsync(\"-auhv\", \"--delete\", \"--exclude=lost+found\", \"--exclude=/sys\", \"--exclude=/tmp\", \"--exclude=/proc\",\n",
        "  \"--exclude=/mnt\", \"--exclude=/dev\", \"--exclude=/backup\", backup_dir, backup_to_dir)\n",
        "\n"
      ],
      "outputs": [],
      "execution_count": null
    }
  ],
  "metadata": {
    "anaconda-cloud": {},
    "kernelspec": {
      "display_name": "Python 3",
      "language": "python",
      "name": "python3"
    },
    "language_info": {
      "codemirror_mode": {
        "name": "ipython",
        "version": 3
      },
      "file_extension": ".py",
      "mimetype": "text/x-python",
      "name": "python",
      "nbconvert_exporter": "python",
      "pygments_lexer": "ipython3",
      "version": "3.6.1"
    }
  },
  "nbformat": 4,
  "nbformat_minor": 4
}