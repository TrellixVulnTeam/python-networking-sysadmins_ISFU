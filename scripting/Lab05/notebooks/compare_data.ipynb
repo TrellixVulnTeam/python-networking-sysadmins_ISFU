{
  "cells": [
    {
      "cell_type": "code",
      "metadata": {},
      "source": [
        "import pandas as pd\n",
        "\n",
        "df1 = pd.read_csv(\"student1.csv\")\n",
        "df2 = pd.read_csv(\"student2.csv\")\n",
        "\n",
        "s1 = set([ tuple(values) for values in df1.values.tolist()])\n",
        "s2 = set([ tuple(values) for values in df2.values.tolist()])\n",
        "\n",
        "s1.symmetric_difference(s2)\n",
        "\n",
        "print (pd.DataFrame(list(s1.difference(s2))),'\\n\\n')\n",
        "print (pd.DataFrame(list(s2.difference(s1))),'\\n\\n')\n"
      ],
      "outputs": [],
      "execution_count": null
    }
  ],
  "metadata": {
    "anaconda-cloud": {},
    "kernelspec": {
      "display_name": "Python 3",
      "language": "python",
      "name": "python3"
    },
    "language_info": {
      "codemirror_mode": {
        "name": "ipython",
        "version": 3
      },
      "file_extension": ".py",
      "mimetype": "text/x-python",
      "name": "python",
      "nbconvert_exporter": "python",
      "pygments_lexer": "ipython3",
      "version": "3.6.1"
    }
  },
  "nbformat": 4,
  "nbformat_minor": 4
}