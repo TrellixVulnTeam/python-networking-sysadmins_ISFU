{
  "cells": [
    {
      "cell_type": "code",
      "metadata": {},
      "source": [
        "import pyPdf\n",
        "def main():\n",
        "\tfile_name = '/home/jovyan/sample_pdf.pdf'\n",
        "\tpdfFile = pyPdf.PdfFileReader(file(file_name,'rb'))\n",
        "\tpdf_data = pdfFile.getDocumentInfo()\n",
        "\tprint (\"----Metadata of the file----\")\n",
        "\t\n",
        "\tfor md in pdf_data:\n",
        "\t\tprint (md+ \":\" +pdf_data[md])\n",
        "if __name__ == '__main__':\n",
        "\tmain()\n",
        "\n"
      ],
      "outputs": [],
      "execution_count": null
    }
  ],
  "metadata": {
    "anaconda-cloud": {},
    "kernelspec": {
      "display_name": "Python 3",
      "language": "python",
      "name": "python3"
    },
    "language_info": {
      "codemirror_mode": {
        "name": "ipython",
        "version": 3
      },
      "file_extension": ".py",
      "mimetype": "text/x-python",
      "name": "python",
      "nbconvert_exporter": "python",
      "pygments_lexer": "ipython3",
      "version": "3.6.1"
    }
  },
  "nbformat": 4,
  "nbformat_minor": 4
}