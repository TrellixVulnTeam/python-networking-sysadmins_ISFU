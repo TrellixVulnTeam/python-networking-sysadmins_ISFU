{
  "cells": [
    {
      "cell_type": "code",
      "metadata": {},
      "source": [
        "import glob\n",
        "\n",
        "file_match = glob.glob('*.txt')\n",
        "print(file_match)\n",
        "\n",
        "file_match = glob.glob('[0-9].txt')\n",
        "print(file_match)\n",
        "\n",
        "file_match = glob.glob('**/*.txt', recursive=True)\n",
        "print(file_match)\n",
        "\n",
        "file_match = glob.glob('**/', recursive=True)\n",
        "print(file_match)\n",
        "\n"
      ],
      "outputs": [],
      "execution_count": null
    }
  ],
  "metadata": {
    "anaconda-cloud": {},
    "kernelspec": {
      "display_name": "Python 3",
      "language": "python",
      "name": "python3"
    },
    "language_info": {
      "codemirror_mode": {
        "name": "ipython",
        "version": 3
      },
      "file_extension": ".py",
      "mimetype": "text/x-python",
      "name": "python",
      "nbconvert_exporter": "python",
      "pygments_lexer": "ipython3",
      "version": "3.6.1"
    }
  },
  "nbformat": 4,
  "nbformat_minor": 4
}