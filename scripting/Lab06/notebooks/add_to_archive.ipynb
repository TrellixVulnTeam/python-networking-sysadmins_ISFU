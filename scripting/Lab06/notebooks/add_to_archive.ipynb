{
  "cells": [
    {
      "cell_type": "code",
      "metadata": {},
      "source": [
        "import shutil\n",
        "import os\n",
        "import tarfile\n",
        "\n",
        "print('creating archive')\n",
        "shutil.make_archive('work', 'tar', root_dir='..', base_dir='work',)\n",
        "\n",
        "print('\\nArchive contents:')\n",
        "with tarfile.open('work.tar', 'r') as t_file:\n",
        "\tfor names in t_file.getnames():\n",
        "\t\tprint(names)\n",
        "\n",
        "os.system('touch sample.txt')\n",
        "print('adding sample.txt')\n",
        "with tarfile.open('work.tar', mode='a') as t:\n",
        "\tt.add('sample.txt')\n",
        "\n",
        "print('contents:',)\n",
        "with tarfile.open('work.tar', mode='r') as t:\n",
        "\tprint([m.name for m in t.getmembers()])\n"
      ],
      "outputs": [],
      "execution_count": null
    }
  ],
  "metadata": {
    "anaconda-cloud": {},
    "kernelspec": {
      "display_name": "Python 3",
      "language": "python",
      "name": "python3"
    },
    "language_info": {
      "codemirror_mode": {
        "name": "ipython",
        "version": 3
      },
      "file_extension": ".py",
      "mimetype": "text/x-python",
      "name": "python",
      "nbconvert_exporter": "python",
      "pygments_lexer": "ipython3",
      "version": "3.6.1"
    }
  },
  "nbformat": 4,
  "nbformat_minor": 4
}