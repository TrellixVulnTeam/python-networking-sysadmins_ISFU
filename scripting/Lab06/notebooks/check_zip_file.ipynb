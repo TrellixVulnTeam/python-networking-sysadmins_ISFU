{
  "cells": [
    {
      "cell_type": "code",
      "metadata": {},
      "source": [
        "import zipfile\n",
        "\n",
        "for f_name in ['hello.py', 'work.zip', 'welcome.py', 'sample.txt', 'test.zip']:\n",
        "\ttry:\n",
        "\t\tprint('{:}\t{}'.format(f_name, zipfile.is_zipfile(f_name)))\n",
        "\texcept IOError as err:\n",
        "\t\tprint('{:}\t{}'.format(f_name, err))\n",
        "\n"
      ],
      "outputs": [],
      "execution_count": null
    }
  ],
  "metadata": {
    "anaconda-cloud": {},
    "kernelspec": {
      "display_name": "Python 3",
      "language": "python",
      "name": "python3"
    },
    "language_info": {
      "codemirror_mode": {
        "name": "ipython",
        "version": 3
      },
      "file_extension": ".py",
      "mimetype": "text/x-python",
      "name": "python",
      "nbconvert_exporter": "python",
      "pygments_lexer": "ipython3",
      "version": "3.6.1"
    }
  },
  "nbformat": 4,
  "nbformat_minor": 4
}