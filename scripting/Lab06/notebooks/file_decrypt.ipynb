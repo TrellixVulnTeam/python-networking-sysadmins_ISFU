{
  "cells": [
    {
      "cell_type": "code",
      "metadata": {},
      "source": [
        "import pyAesCrypt\n",
        "from os import stat, remove\n",
        "\n",
        "bufferSize = 64 * 1024\n",
        "password = \"#Training\"\n",
        "\n",
        "encFileSize = stat(\"sample.txt.aes\").st_size\n",
        "\n",
        "with open(\"sample.txt.aes\", \"rb\") as fIn:\n",
        "\twith open(\"sampleout.txt\", \"wb\") as fOut:\n",
        "\t\ttry:\n",
        "\t\t\tpyAesCrypt.decryptStream(fIn, fOut, password, bufferSize, encFileSize)\n",
        "\t\texcept ValueError:\n",
        "\t\t\tremove(\"sampleout.txt\")\n"
      ],
      "outputs": [],
      "execution_count": null
    }
  ],
  "metadata": {
    "anaconda-cloud": {},
    "kernelspec": {
      "display_name": "Python 3",
      "language": "python",
      "name": "python3"
    },
    "language_info": {
      "codemirror_mode": {
        "name": "ipython",
        "version": 3
      },
      "file_extension": ".py",
      "mimetype": "text/x-python",
      "name": "python",
      "nbconvert_exporter": "python",
      "pygments_lexer": "ipython3",
      "version": "3.6.1"
    }
  },
  "nbformat": 4,
  "nbformat_minor": 4
}