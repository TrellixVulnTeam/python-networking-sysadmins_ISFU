{
  "cells": [
    {
      "cell_type": "code",
      "metadata": {},
      "source": [
        "import pyAesCrypt\n",
        "from os import stat, remove\n",
        "# encryption/decryption buffer size - 64K\n",
        "bufferSize = 64 * 1024\n",
        "password = \"#Training\"\n",
        "\n",
        "# encrypt\n",
        "with open(\"sample.txt\", \"rb\") as fIn:\n",
        "\twith open(\"sample.txt.aes\", \"wb\") as fOut:\n",
        "\t\tpyAesCrypt.encryptStream(fIn, fOut, password, bufferSize)\n",
        "\n",
        "# get encrypted file size\n",
        "encFileSize = stat(\"sample.txt.aes\").st_size\n"
      ],
      "outputs": [],
      "execution_count": null
    }
  ],
  "metadata": {
    "anaconda-cloud": {},
    "kernelspec": {
      "display_name": "Python 3",
      "language": "python",
      "name": "python3"
    },
    "language_info": {
      "codemirror_mode": {
        "name": "ipython",
        "version": 3
      },
      "file_extension": ".py",
      "mimetype": "text/x-python",
      "name": "python",
      "nbconvert_exporter": "python",
      "pygments_lexer": "ipython3",
      "version": "3.6.1"
    }
  },
  "nbformat": 4,
  "nbformat_minor": 4
}