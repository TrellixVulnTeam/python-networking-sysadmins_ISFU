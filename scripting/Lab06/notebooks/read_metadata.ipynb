{
  "cells": [
    {
      "cell_type": "code",
      "metadata": {},
      "source": [
        "import tarfile\n",
        "import time\n",
        "with tarfile.open('work.tar', 'r') as t:\n",
        "\tfor file_info in t.getmembers():\n",
        "\t\tprint(file_info.name)\n",
        "\t\tprint(\"Size   :\", file_info.size, 'bytes')\n",
        "\t\tprint(\"Type   :\", file_info.type)\n",
        "\t\tprint()\n",
        "\n"
      ],
      "outputs": [],
      "execution_count": null
    }
  ],
  "metadata": {
    "anaconda-cloud": {},
    "kernelspec": {
      "display_name": "Python 3",
      "language": "python",
      "name": "python3"
    },
    "language_info": {
      "codemirror_mode": {
        "name": "ipython",
        "version": 3
      },
      "file_extension": ".py",
      "mimetype": "text/x-python",
      "name": "python",
      "nbconvert_exporter": "python",
      "pygments_lexer": "ipython3",
      "version": "3.6.1"
    }
  },
  "nbformat": 4,
  "nbformat_minor": 4
}