{
  "cells": [
    {
      "cell_type": "code",
      "metadata": {},
      "source": [
        "import zipfile\n",
        "def meta_info(names):\n",
        "\twith zipfile.ZipFile(names) as zf:\n",
        "\t\tfor info in zf.infolist():\n",
        "\t\t\tprint(info.filename)\n",
        "\t\t\tif info.create_system == 0:\n",
        "\t\t\t\tsystem = 'Windows'\n",
        "\t\t\telif info.create_system == 3:\n",
        "\t\t\t\tsystem = 'Unix'\n",
        "\t\t\telse:\n",
        "\t\t\t\tsystem = 'UNKNOWN'\n",
        "\t\t\tprint(\"System         :\", system)\n",
        "\t\t\tprint(\"Zip Version    :\", info.create_version)\n",
        "\t\t\tprint(\"Compressed     :\", info.compress_size, 'bytes')\n",
        "\t\t\tprint(\"Uncompressed   :\", info.file_size, 'bytes')\n",
        "\t\t\tprint()\n",
        "\n",
        "\n",
        "if __name__ == '__main__':\n",
        "\tmeta_info('work.zip')\n",
        "\n"
      ],
      "outputs": [],
      "execution_count": null
    }
  ],
  "metadata": {
    "anaconda-cloud": {},
    "kernelspec": {
      "display_name": "Python 3",
      "language": "python",
      "name": "python3"
    },
    "language_info": {
      "codemirror_mode": {
        "name": "ipython",
        "version": 3
      },
      "file_extension": ".py",
      "mimetype": "text/x-python",
      "name": "python",
      "nbconvert_exporter": "python",
      "pygments_lexer": "ipython3",
      "version": "3.6.1"
    }
  },
  "nbformat": 4,
  "nbformat_minor": 4
}