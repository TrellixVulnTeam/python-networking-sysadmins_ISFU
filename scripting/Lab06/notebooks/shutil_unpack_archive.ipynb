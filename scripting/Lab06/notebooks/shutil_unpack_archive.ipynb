{
  "cells": [
    {
      "cell_type": "code",
      "metadata": {},
      "source": [
        "import pathlib\n",
        "import shutil\n",
        "import sys\n",
        "import tempfile\n",
        "\n",
        "with tempfile.TemporaryDirectory() as d:\n",
        "\tshutil.unpack_archive('work.tar.gz', extract_dir='/home/jovyan/work',)\n",
        "\tprefix_len = len(d) + 1\n",
        "\tfor extracted in pathlib.Path(d).rglob('*'):\n",
        "\t\tprint(str(extracted)[prefix_len:])\n"
      ],
      "outputs": [],
      "execution_count": null
    }
  ],
  "metadata": {
    "anaconda-cloud": {},
    "kernelspec": {
      "display_name": "Python 3",
      "language": "python",
      "name": "python3"
    },
    "language_info": {
      "codemirror_mode": {
        "name": "ipython",
        "version": 3
      },
      "file_extension": ".py",
      "mimetype": "text/x-python",
      "name": "python",
      "nbconvert_exporter": "python",
      "pygments_lexer": "ipython3",
      "version": "3.6.1"
    }
  },
  "nbformat": 4,
  "nbformat_minor": 4
}