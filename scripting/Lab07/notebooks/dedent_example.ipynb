{
  "cells": [
    {
      "cell_type": "code",
      "metadata": {},
      "source": [
        "import textwrap\n",
        "\n",
        "str1 = '''\n",
        "\tHello Python World \\tThis is Python 101\n",
        "\tScripting language\\n\n",
        "\tPython is an interpreted high-level programming language for general-purpose programming.\n",
        "\t'''\n",
        "print(\"Original: \\n\", str1)\n",
        "print()\n",
        "t = textwrap.dedent(str1)\n",
        "print(\"Dedented: \\n\", t)\n"
      ],
      "outputs": [],
      "execution_count": null
    }
  ],
  "metadata": {
    "anaconda-cloud": {},
    "kernelspec": {
      "display_name": "Python 3",
      "language": "python",
      "name": "python3"
    },
    "language_info": {
      "codemirror_mode": {
        "name": "ipython",
        "version": 3
      },
      "file_extension": ".py",
      "mimetype": "text/x-python",
      "name": "python",
      "nbconvert_exporter": "python",
      "pygments_lexer": "ipython3",
      "version": "3.6.1"
    }
  },
  "nbformat": 4,
  "nbformat_minor": 4
}