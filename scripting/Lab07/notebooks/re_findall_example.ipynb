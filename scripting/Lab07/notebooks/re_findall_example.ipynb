{
  "cells": [
    {
      "cell_type": "code",
      "metadata": {},
      "source": [
        "import re\n",
        "\n",
        "pattern = 'Red'\n",
        "colors = 'Red, Blue, Black, Red, Green'\n",
        "p = re.findall(pattern, colors)\n",
        "print(p)\n",
        "\n",
        "str_line = 'Peter Piper picked a peck of pickled peppers. How many pickled peppers did Peter Piper pick?'\n",
        "pt = re.findall('pe\\w+', str_line)\n",
        "pt1 = re.findall('pic\\w+', str_line)\n",
        "print(pt)\n",
        "print(pt1)\n",
        "\n",
        "line = 'Hello hello HELLO bye'\n",
        "p = re.findall('he\\w+', line, re.IGNORECASE)\n",
        "print(p)\n",
        "\n",
        "\n"
      ],
      "outputs": [],
      "execution_count": null
    }
  ],
  "metadata": {
    "anaconda-cloud": {},
    "kernelspec": {
      "display_name": "Python 3",
      "language": "python",
      "name": "python3"
    },
    "language_info": {
      "codemirror_mode": {
        "name": "ipython",
        "version": 3
      },
      "file_extension": ".py",
      "mimetype": "text/x-python",
      "name": "python",
      "nbconvert_exporter": "python",
      "pygments_lexer": "ipython3",
      "version": "3.6.1"
    }
  },
  "nbformat": 4,
  "nbformat_minor": 4
}