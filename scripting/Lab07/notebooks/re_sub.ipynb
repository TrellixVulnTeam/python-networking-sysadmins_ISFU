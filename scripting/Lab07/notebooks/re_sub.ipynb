{
  "cells": [
    {
      "cell_type": "code",
      "metadata": {},
      "source": [
        "import re\n",
        "\n",
        "str_line = 'Peter Piper picked a peck of pickled peppers. How many pickled peppers did Peter Piper pick?'\n",
        "print(\"Original: \", str_line)\n",
        "\n",
        "p = re.sub('Peter', 'Mary', str_line)\n",
        "print(\"Replaced: \", p)\n",
        "\n",
        "p = re.sub('Peter', 'Mary', str_line, count=1)\n",
        "print(\"Replacing only one occurrence of Peter... \")\n",
        "print(\"Replaced: \", p)\n"
      ],
      "outputs": [],
      "execution_count": null
    }
  ],
  "metadata": {
    "anaconda-cloud": {},
    "kernelspec": {
      "display_name": "Python 3",
      "language": "python",
      "name": "python3"
    },
    "language_info": {
      "codemirror_mode": {
        "name": "ipython",
        "version": 3
      },
      "file_extension": ".py",
      "mimetype": "text/x-python",
      "name": "python",
      "nbconvert_exporter": "python",
      "pygments_lexer": "ipython3",
      "version": "3.6.1"
    }
  },
  "nbformat": 4,
  "nbformat_minor": 4
}