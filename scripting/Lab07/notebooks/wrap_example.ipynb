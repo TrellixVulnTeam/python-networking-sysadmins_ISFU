{
  "cells": [
    {
      "cell_type": "code",
      "metadata": {},
      "source": [
        "import textwrap\n",
        "\n",
        "sample_string = '''Python is an interpreted high-level programming language for \n",
        "general-purpose programming. Created by Guido van Rossum and first released in \t\t\t1991, Python has a design philosophy that emphasizes code readability, \n",
        "notably using significant whitespace.'''\n",
        "\n",
        "w = textwrap.wrap(text=sample_string, width=30) \n",
        "print(w)\n"
      ],
      "outputs": [],
      "execution_count": null
    }
  ],
  "metadata": {
    "anaconda-cloud": {},
    "kernelspec": {
      "display_name": "Python 3",
      "language": "python",
      "name": "python3"
    },
    "language_info": {
      "codemirror_mode": {
        "name": "ipython",
        "version": 3
      },
      "file_extension": ".py",
      "mimetype": "text/x-python",
      "name": "python",
      "nbconvert_exporter": "python",
      "pygments_lexer": "ipython3",
      "version": "3.6.1"
    }
  },
  "nbformat": 4,
  "nbformat_minor": 4
}