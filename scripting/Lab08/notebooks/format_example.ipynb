{
  "cells": [
    {
      "cell_type": "code",
      "metadata": {},
      "source": [
        "# Using single formatter\n",
        "print(\"{}, My name is John\".format(\"Hi\"))\n",
        "\n",
        "str1 = \"This is John. I am learning {} scripting language.\"\n",
        "print(str1.format(\"Python\"))\n",
        "\n",
        "print(\"Hi, My name is Sara and I am {} years old !!\".format(26))\n",
        "\n",
        "# Using multiple formatters\n",
        "str2 = \"This is Mary {}. I work at {} Resource department. I am {} years old !!\"\n",
        "print(str2.format(\"Jacobs\", \"Human\", 30))\n",
        "\n",
        "print(\"Hello {}, Nice to meet you. I am {}.\".format(\"Emily\", \"Jennifer\"))\n"
      ],
      "outputs": [],
      "execution_count": null
    }
  ],
  "metadata": {
    "anaconda-cloud": {},
    "kernelspec": {
      "display_name": "Python 3",
      "language": "python",
      "name": "python3"
    },
    "language_info": {
      "codemirror_mode": {
        "name": "ipython",
        "version": 3
      },
      "file_extension": ".py",
      "mimetype": "text/x-python",
      "name": "python",
      "nbconvert_exporter": "python",
      "pygments_lexer": "ipython3",
      "version": "3.6.1"
    }
  },
  "nbformat": 4,
  "nbformat_minor": 4
}