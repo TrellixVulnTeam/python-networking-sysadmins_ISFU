{
  "cells": [
    {
      "cell_type": "code",
      "metadata": {},
      "source": [
        "str1 = input(\"Enter a string: \")\n",
        "print(\"Entered string is: \", str1)\n",
        "\n",
        "print()\n",
        "\n",
        "a = int(input(\"Enter the value of a: \"))\n",
        "b = int(input(\"Enter the value of b: \"))\n",
        "c = a + b\n",
        "print(\"Value of c is: \", c)\n",
        "\n",
        "print()\n",
        "\n",
        "num1 = float(input(\"Enter num 1: \"))\n",
        "num2 = float(input(\"Enter num 2: \"))\n",
        "num3 = num1/num2\n",
        "print(\"Value of num 3 is: \", num3)\n",
        "\n"
      ],
      "outputs": [],
      "execution_count": null
    }
  ],
  "metadata": {
    "anaconda-cloud": {},
    "kernelspec": {
      "display_name": "Python 3",
      "language": "python",
      "name": "python3"
    },
    "language_info": {
      "codemirror_mode": {
        "name": "ipython",
        "version": 3
      },
      "file_extension": ".py",
      "mimetype": "text/x-python",
      "name": "python",
      "nbconvert_exporter": "python",
      "pygments_lexer": "ipython3",
      "version": "3.6.1"
    }
  },
  "nbformat": 4,
  "nbformat_minor": 4
}