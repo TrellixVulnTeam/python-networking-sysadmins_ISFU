{
  "cells": [
    {
      "cell_type": "code",
      "metadata": {},
      "source": [
        "# printing a simple string on the screen.\n",
        "print(\"Hello Python\")\n",
        "\n",
        "# Accessing only a value.\n",
        "a = 80\n",
        "print(a)\n",
        "\n",
        "# printing a string on screen as well as accessing a value.\n",
        "a = 50\n",
        "b = 30\n",
        "c = a/b\n",
        "print(\"The value of c is: \", c)\n"
      ],
      "outputs": [],
      "execution_count": null
    }
  ],
  "metadata": {
    "anaconda-cloud": {},
    "kernelspec": {
      "display_name": "Python 3",
      "language": "python",
      "name": "python3"
    },
    "language_info": {
      "codemirror_mode": {
        "name": "ipython",
        "version": 3
      },
      "file_extension": ".py",
      "mimetype": "text/x-python",
      "name": "python",
      "nbconvert_exporter": "python",
      "pygments_lexer": "ipython3",
      "version": "3.6.1"
    }
  },
  "nbformat": 4,
  "nbformat_minor": 4
}