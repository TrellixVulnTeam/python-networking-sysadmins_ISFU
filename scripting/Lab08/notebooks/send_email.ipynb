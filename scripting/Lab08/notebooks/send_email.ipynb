{
  "cells": [
    {
      "cell_type": "code",
      "metadata": {},
      "source": [
        "import smtplib\n",
        "from email.mime.text import MIMEText\n",
        "import getpass\n",
        "\n",
        "host_name = 'smtp.gmail.com'\n",
        "port = 465\n",
        "u_name = 'username/emailid'\n",
        "password = getpass.getpass()\n",
        "sender = 'sender_name'\n",
        "receivers = ['receiver1_email_address', 'receiver2_email_address']\n",
        "\n",
        "text = MIMEText('Test mail')\n",
        "text['Subject'] = 'Test'\n",
        "text['From'] = sender\n",
        "text['To'] = ', '.join(receivers)\n",
        "\n",
        "s_obj = smtplib.SMTP_SSL(host_name, port)\n",
        "s_obj.login(u_name, password)\n",
        "s_obj.sendmail(sender, receivers, text.as_string())\n",
        "s_obj.quit()\n",
        "print(\"Mail sent successfully\")\n",
        "\n"
      ],
      "outputs": [],
      "execution_count": null
    }
  ],
  "metadata": {
    "anaconda-cloud": {},
    "kernelspec": {
      "display_name": "Python 3",
      "language": "python",
      "name": "python3"
    },
    "language_info": {
      "codemirror_mode": {
        "name": "ipython",
        "version": 3
      },
      "file_extension": ".py",
      "mimetype": "text/x-python",
      "name": "python",
      "nbconvert_exporter": "python",
      "pygments_lexer": "ipython3",
      "version": "3.6.1"
    }
  },
  "nbformat": 4,
  "nbformat_minor": 4
}