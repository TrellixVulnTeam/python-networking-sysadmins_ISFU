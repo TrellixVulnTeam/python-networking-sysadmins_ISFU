{
  "cells": [
    {
      "cell_type": "code",
      "metadata": {},
      "source": [
        "import os\n",
        "import smtplib\n",
        "from email.mime.text import MIMEText\n",
        "from email.mime.image import MIMEImage\n",
        "from email.mime.multipart import MIMEMultipart\n",
        "import getpass\n",
        "\n",
        "host_name = 'smtp.gmail.com'  # smtp.mail.yahoo.com\n",
        "port = 465\n",
        "u_name = 'mansi.joshi990@gmail.com'\n",
        "password = getpass.getpass()\n",
        "sender = 'Mansi Joshi'\n",
        "receivers = ['info@levanatech.com', 'kalpesh7402patil@gmail.com']\n",
        "\n",
        "text = MIMEMultipart()\n",
        "text['Subject'] = 'Test Attachment'\n",
        "text['From'] = sender\n",
        "text['To'] = ', '.join(receivers)\n",
        "\n",
        "txt = MIMEText('Sending a sample image.')\n",
        "text.attach(txt)\n",
        "\n",
        "f_path = '/home/jovyan/Desktop/mountain.jpg'\n",
        "with open(f_path, 'rb') as f:\n",
        "    img = MIMEImage(f.read())\n",
        "\n",
        "img.add_header('Content-Disposition',\n",
        "               'attachment',\n",
        "               filename=os.path.basename(f_path))\n",
        "text.attach(img)\n",
        "\n",
        "server = smtplib.SMTP_SSL(host_name, port)\n",
        "print(\"Attachment sent successfully !!\")\n",
        "server.login(u_name, password)\n",
        "server.sendmail(sender, receivers, text.as_string())\n",
        "server.quit()\n"
      ],
      "outputs": [],
      "execution_count": null
    }
  ],
  "metadata": {
    "anaconda-cloud": {},
    "kernelspec": {
      "display_name": "Python 3",
      "language": "python",
      "name": "python3"
    },
    "language_info": {
      "codemirror_mode": {
        "name": "ipython",
        "version": 3
      },
      "file_extension": ".py",
      "mimetype": "text/x-python",
      "name": "python",
      "nbconvert_exporter": "python",
      "pygments_lexer": "ipython3",
      "version": "3.6.1"
    }
  },
  "nbformat": 4,
  "nbformat_minor": 4
}