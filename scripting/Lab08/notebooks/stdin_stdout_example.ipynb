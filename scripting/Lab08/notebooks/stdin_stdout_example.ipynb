{
  "cells": [
    {
      "cell_type": "code",
      "metadata": {},
      "source": [
        "import sys\n",
        "\n",
        "print(\"Enter number1: \")\n",
        "a = int(sys.stdin.readline())\n",
        "\n",
        "print(\"Enter number2: \")\n",
        "b = int(sys.stdin.readline())\n",
        "\n",
        "c = a + b\n",
        "sys.stdout.write(\"Result: %d \" % c)\n",
        "\n"
      ],
      "outputs": [],
      "execution_count": null
    }
  ],
  "metadata": {
    "anaconda-cloud": {},
    "kernelspec": {
      "display_name": "Python 3",
      "language": "python",
      "name": "python3"
    },
    "language_info": {
      "codemirror_mode": {
        "name": "ipython",
        "version": 3
      },
      "file_extension": ".py",
      "mimetype": "text/x-python",
      "name": "python",
      "nbconvert_exporter": "python",
      "pygments_lexer": "ipython3",
      "version": "3.6.1"
    }
  },
  "nbformat": 4,
  "nbformat_minor": 4
}