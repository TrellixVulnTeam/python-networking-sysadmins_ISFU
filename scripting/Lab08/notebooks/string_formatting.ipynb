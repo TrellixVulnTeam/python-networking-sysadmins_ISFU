{
  "cells": [
    {
      "cell_type": "code",
      "metadata": {},
      "source": [
        "# Basic formatting\n",
        "a = 10\n",
        "b = 30\n",
        "print(\"The values of a and b are %d %d\" % (a, b))\n",
        "c = a + b\n",
        "print(\"The value of c is %d\" % c)\n",
        "\n",
        "str1 = 'John'\n",
        "print(\"My name is %s\" % str1)\n",
        "\n",
        "x = 10.5\n",
        "y = 33.5\n",
        "z = x * y\n",
        "print(\"The value of z is %f\" % z)\n",
        "print()\n",
        "\n",
        "# aligning\n",
        "name = 'Mary'\n",
        "print(\"Normal: Hello, I am %s !!\" % name)\n",
        "print(\"Right aligned: Hello, I am %10s !!\" % name)\n",
        "print(\"Left aligned: Hello, I am %-10s !!\" % name)\n",
        "print()\n",
        "\n",
        "# truncating\n",
        "print(\"The truncated string is %.4s\" % ('Examination'))\n",
        "print()\n",
        "\n",
        "# formatting placeholders\n",
        "students = {'Name' : 'John', 'Address' : 'New York'}\n",
        "print(\"Student details: Name:%(Name)s Address:%(Address)s\" % students)\n",
        "\n"
      ],
      "outputs": [],
      "execution_count": null
    }
  ],
  "metadata": {
    "anaconda-cloud": {},
    "kernelspec": {
      "display_name": "Python 3",
      "language": "python",
      "name": "python3"
    },
    "language_info": {
      "codemirror_mode": {
        "name": "ipython",
        "version": 3
      },
      "file_extension": ".py",
      "mimetype": "text/x-python",
      "name": "python",
      "nbconvert_exporter": "python",
      "pygments_lexer": "ipython3",
      "version": "3.6.1"
    }
  },
  "nbformat": 4,
  "nbformat_minor": 4
}