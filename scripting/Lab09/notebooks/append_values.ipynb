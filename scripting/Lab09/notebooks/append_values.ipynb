{
  "cells": [
    {
      "cell_type": "code",
      "metadata": {},
      "source": [
        "from openpyxl import Workbook\n",
        "\n",
        "book_obj = Workbook()\n",
        "excel_sheet = book_obj.active\n",
        "\n",
        "rows = (\n",
        "    (11, 12, 13),\n",
        "    (21, 22, 23),\n",
        "    (31, 32, 33),\n",
        "    (41, 42, 43)\n",
        ")\n",
        "\n",
        "for values in rows:\n",
        "\texcel_sheet.append(values)\n",
        "\tprint()\n",
        "\n",
        "print(\"values are successfully appended\")\n",
        "book_obj.save('test.xlsx')\n"
      ],
      "outputs": [],
      "execution_count": null
    }
  ],
  "metadata": {
    "anaconda-cloud": {},
    "kernelspec": {
      "display_name": "Python 3",
      "language": "python",
      "name": "python3"
    },
    "language_info": {
      "codemirror_mode": {
        "name": "ipython",
        "version": 3
      },
      "file_extension": ".py",
      "mimetype": "text/x-python",
      "name": "python",
      "nbconvert_exporter": "python",
      "pygments_lexer": "ipython3",
      "version": "3.6.1"
    }
  },
  "nbformat": 4,
  "nbformat_minor": 4
}