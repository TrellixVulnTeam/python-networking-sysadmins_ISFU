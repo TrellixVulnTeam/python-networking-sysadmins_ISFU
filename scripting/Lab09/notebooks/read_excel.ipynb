{
  "cells": [
    {
      "cell_type": "code",
      "metadata": {},
      "source": [
        "import xlrd \n",
        "\n",
        "excel_file = (\"/home/jovyan/sample.xlsx\") \n",
        "\n",
        "book_obj = xlrd.open_workbook(excel_file) \n",
        "excel_sheet = book_obj.sheet_by_index(0) \n",
        "\n",
        "result = excel_sheet.cell_value(0, 1) \n",
        "print(result)\n"
      ],
      "outputs": [],
      "execution_count": null
    }
  ],
  "metadata": {
    "anaconda-cloud": {},
    "kernelspec": {
      "display_name": "Python 3",
      "language": "python",
      "name": "python3"
    },
    "language_info": {
      "codemirror_mode": {
        "name": "ipython",
        "version": 3
      },
      "file_extension": ".py",
      "mimetype": "text/x-python",
      "name": "python",
      "nbconvert_exporter": "python",
      "pygments_lexer": "ipython3",
      "version": "3.6.1"
    }
  },
  "nbformat": 4,
  "nbformat_minor": 4
}