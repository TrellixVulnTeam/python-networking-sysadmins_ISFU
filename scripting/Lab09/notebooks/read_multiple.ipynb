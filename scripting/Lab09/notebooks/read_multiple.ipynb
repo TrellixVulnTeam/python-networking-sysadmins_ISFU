{
  "cells": [
    {
      "cell_type": "code",
      "metadata": {},
      "source": [
        "import openpyxl\n",
        "\n",
        "book_obj = openpyxl.load_workbook('sample.xlsx')\n",
        "\n",
        "excel_sheet = book_obj.active\n",
        "\n",
        "cells = excel_sheet['A1': 'C6']\n",
        "\n",
        "for c1, c2, c3 in cells:\n",
        "\tprint(\"{0:6} {1:6} {2:6}\".format(c1.value, c2.value, c3.value))\n",
        "\n"
      ],
      "outputs": [],
      "execution_count": null
    }
  ],
  "metadata": {
    "anaconda-cloud": {},
    "kernelspec": {
      "display_name": "Python 3",
      "language": "python",
      "name": "python3"
    },
    "language_info": {
      "codemirror_mode": {
        "name": "ipython",
        "version": 3
      },
      "file_extension": ".py",
      "mimetype": "text/x-python",
      "name": "python",
      "nbconvert_exporter": "python",
      "pygments_lexer": "ipython3",
      "version": "3.6.1"
    }
  },
  "nbformat": 4,
  "nbformat_minor": 4
}