{
  "cells": [
    {
      "cell_type": "code",
      "metadata": {},
      "source": [
        "import PyPDF2\n",
        " \n",
        "pdf = open('test.pdf', 'rb')\n",
        "rd_pdf = PyPDF2.PdfFileReader(pdf)\n",
        "wr_pdf = PyPDF2.PdfFileWriter()\n",
        " \n",
        "for pg_num in range(rd_pdf.numPages):\n",
        "\tpdf_page = rd_pdf.getPage(pg_num)\n",
        "\tpdf_page.rotateClockwise(90)\n",
        "\twr_pdf.addPage(pdf_page)\n",
        " \n",
        "pdf_out = open('rotated.pdf', 'wb')\n",
        "wr_pdf.write(pdf_out)\n",
        "pdf_out.close()\n",
        "print(\"pdf successfully rotated\")\n",
        "pdf.close()\n",
        "\n"
      ],
      "outputs": [],
      "execution_count": null
    }
  ],
  "metadata": {
    "anaconda-cloud": {},
    "kernelspec": {
      "display_name": "Python 3",
      "language": "python",
      "name": "python3"
    },
    "language_info": {
      "codemirror_mode": {
        "name": "ipython",
        "version": 3
      },
      "file_extension": ".py",
      "mimetype": "text/x-python",
      "name": "python",
      "nbconvert_exporter": "python",
      "pygments_lexer": "ipython3",
      "version": "3.6.1"
    }
  },
  "nbformat": 4,
  "nbformat_minor": 4
}