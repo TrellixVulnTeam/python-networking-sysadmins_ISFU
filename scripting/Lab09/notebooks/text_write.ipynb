{
  "cells": [
    {
      "cell_type": "code",
      "metadata": {},
      "source": [
        "text_file = open(\"test.txt\", \"w\")\n",
        "text_file.write(\"Monday\\nTuesday\\nWednesday\\nThursday\\nFriday\\nSaturday\\n\")\n",
        "text_file.close()\n",
        "\n"
      ],
      "outputs": [],
      "execution_count": null
    }
  ],
  "metadata": {
    "anaconda-cloud": {},
    "kernelspec": {
      "display_name": "Python 3",
      "language": "python",
      "name": "python3"
    },
    "language_info": {
      "codemirror_mode": {
        "name": "ipython",
        "version": 3
      },
      "file_extension": ".py",
      "mimetype": "text/x-python",
      "name": "python",
      "nbconvert_exporter": "python",
      "pygments_lexer": "ipython3",
      "version": "3.6.1"
    }
  },
  "nbformat": 4,
  "nbformat_minor": 4
}