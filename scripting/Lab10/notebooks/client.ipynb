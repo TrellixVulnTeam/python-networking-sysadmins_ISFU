{
  "cells": [
    {
      "cell_type": "code",
      "metadata": {},
      "source": [
        "import socket\n",
        "\n",
        "host = socket.gethostname()  # as both code is running on same pc\n",
        "port = 5000  # socket server port number\n",
        "\n",
        "client_socket = socket.socket()  # instantiate\n",
        "client_socket.connect((host, port))  # connect to the server\n",
        "\n",
        "message = input(\" -> \")  # take input\n",
        "\n",
        "while message.lower().strip() != 'bye':\n",
        "\tclient_socket.send(message.encode())  # send message\n",
        "\tdata = client_socket.recv(1024).decode()  # receive response\n",
        "\n",
        "\tprint('Received from server: ' + data)  # show in terminal\n",
        "\n",
        "\tmessage = input(\" -> \")  # again take input\n",
        "\n",
        "client_socket.close()  # close the connection\n"
      ],
      "outputs": [],
      "execution_count": null
    }
  ],
  "metadata": {
    "anaconda-cloud": {},
    "kernelspec": {
      "display_name": "Python 3",
      "language": "python",
      "name": "python3"
    },
    "language_info": {
      "codemirror_mode": {
        "name": "ipython",
        "version": 3
      },
      "file_extension": ".py",
      "mimetype": "text/x-python",
      "name": "python",
      "nbconvert_exporter": "python",
      "pygments_lexer": "ipython3",
      "version": "3.6.1"
    }
  },
  "nbformat": 4,
  "nbformat_minor": 4
}