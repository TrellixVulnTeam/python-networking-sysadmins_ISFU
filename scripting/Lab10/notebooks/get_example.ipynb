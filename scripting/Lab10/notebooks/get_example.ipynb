{
  "cells": [
    {
      "cell_type": "code",
      "metadata": {},
      "source": [
        "import http.client\n",
        "\n",
        "con_obj = http.client.HTTPSConnection(\"www.imdb.com\")\n",
        "con_obj.request(\"GET\", \"/\")\n",
        "response = con_obj.getresponse()\n",
        "print(\"Status: {}\".format(response.status))\n",
        "\n",
        "read_data = response.read(1000)\n",
        "print(read_data)\n",
        "con_obj.close()\n"
      ],
      "outputs": [],
      "execution_count": null
    }
  ],
  "metadata": {
    "anaconda-cloud": {},
    "kernelspec": {
      "display_name": "Python 3",
      "language": "python",
      "name": "python3"
    },
    "language_info": {
      "codemirror_mode": {
        "name": "ipython",
        "version": 3
      },
      "file_extension": ".py",
      "mimetype": "text/x-python",
      "name": "python",
      "nbconvert_exporter": "python",
      "pygments_lexer": "ipython3",
      "version": "3.6.1"
    }
  },
  "nbformat": 4,
  "nbformat_minor": 4
}