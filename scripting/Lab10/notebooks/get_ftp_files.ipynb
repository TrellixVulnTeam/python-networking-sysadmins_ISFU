{
 "cells": [
  {
   "cell_type": "code",
   "execution_count": null,
   "metadata": {},
   "outputs": [],
   "source": [
    "from ftplib import FTP\n",
    "\n",
    "## Browser Url: ftp://speedtest.tele2.net/\n",
    "        \n",
    "ftp = FTP(\"speedtest.tele2.net\")\n",
    "ftp.login(\"anonymous\", \"anonymous\")\n",
    "\n",
    "ftp.cwd(\"/\")\n",
    "files = ftp.nlst()\n",
    "# Print out the files\n",
    "for file in files:\n",
    "    print(\"FileName...\" + file)\n",
    "\n",
    "filename='512KB.zip'\n",
    "\n",
    "try:\n",
    "    ftp.retrbinary(\"RETR \" + filename ,open(filename, 'wb').write)\n",
    "except:\n",
    "    print (\"Error\")\n",
    "    \n",
    "\n",
    "ftp.close()\n",
    "\n"
   ]
  },
  {
   "cell_type": "code",
   "execution_count": null,
   "metadata": {},
   "outputs": [],
   "source": [
    "%%sh\n",
    "ls -ltr"
   ]
  },
  {
   "cell_type": "code",
   "execution_count": null,
   "metadata": {},
   "outputs": [],
   "source": []
  }
 ],
 "metadata": {
  "anaconda-cloud": {},
  "kernelspec": {
   "display_name": "Python 3",
   "language": "python",
   "name": "python3"
  },
  "language_info": {
   "codemirror_mode": {
    "name": "ipython",
    "version": 3
   },
   "file_extension": ".py",
   "mimetype": "text/x-python",
   "name": "python",
   "nbconvert_exporter": "python",
   "pygments_lexer": "ipython3",
   "version": "3.8.6"
  }
 },
 "nbformat": 4,
 "nbformat_minor": 4
}
