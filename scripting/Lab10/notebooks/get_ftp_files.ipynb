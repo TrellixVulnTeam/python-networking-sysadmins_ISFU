{
  "cells": [
    {
      "cell_type": "code",
      "metadata": {},
      "source": [
        "from ftplib import FTP\n",
        "\n",
        "ftp = FTP('192.168.2.105')\n",
        "ftp.login('student','training')\n",
        "\n",
        "ftp.cwd('/home/student/work/')\n",
        "files = ftp.nlst()\n",
        "\n",
        "# Print out the files\n",
        "for file in files:\n",
        "\tprint(\"Downloading...\" + file)\n",
        "\tftp.retrbinary(\"RETR \" + file ,open(\"/home/student/testing/\" + file, 'wb').write)\n",
        "\n",
        "ftp.close()\n",
        "\n"
      ],
      "outputs": [],
      "execution_count": null
    }
  ],
  "metadata": {
    "anaconda-cloud": {},
    "kernelspec": {
      "display_name": "Python 3",
      "language": "python",
      "name": "python3"
    },
    "language_info": {
      "codemirror_mode": {
        "name": "ipython",
        "version": 3
      },
      "file_extension": ".py",
      "mimetype": "text/x-python",
      "name": "python",
      "nbconvert_exporter": "python",
      "pygments_lexer": "ipython3",
      "version": "3.6.1"
    }
  },
  "nbformat": 4,
  "nbformat_minor": 4
}