{
  "cells": [
    {
      "cell_type": "code",
      "metadata": {},
      "source": [
        "import http.client\n",
        "\n",
        "con_obj = http.client.HTTPSConnection(\"www.imdb.com\")\n",
        "con_obj.request(\"GET\", \"/\")\n",
        "\n",
        "response = con_obj.getresponse()\n",
        "headers_list = response.getheaders()\n",
        "\n",
        "print(\"Headers: {}\".format(headers_list))\n"
      ],
      "outputs": [],
      "execution_count": null
    }
  ],
  "metadata": {
    "anaconda-cloud": {},
    "kernelspec": {
      "display_name": "Python 3",
      "language": "python",
      "name": "python3"
    },
    "language_info": {
      "codemirror_mode": {
        "name": "ipython",
        "version": 3
      },
      "file_extension": ".py",
      "mimetype": "text/x-python",
      "name": "python",
      "nbconvert_exporter": "python",
      "pygments_lexer": "ipython3",
      "version": "3.6.1"
    }
  },
  "nbformat": 4,
  "nbformat_minor": 4
}