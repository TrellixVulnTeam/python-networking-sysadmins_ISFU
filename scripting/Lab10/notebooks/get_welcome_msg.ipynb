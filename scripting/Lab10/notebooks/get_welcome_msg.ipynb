{
 "cells": [
  {
   "cell_type": "code",
   "execution_count": null,
   "metadata": {},
   "outputs": [],
   "source": [
    "from ftplib import FTP\n",
    "\n",
    "## Browser Url: ftp://speedtest.tele2.net/\n",
    "\n",
    "ftp = FTP(\"speedtest.tele2.net\")\n",
    "ftp.login(\"anonymous\", \"anonymous\")\n",
    "\n",
    "welcome_msg = ftp.getwelcome()\n",
    "print(welcome_msg)\n",
    "\n",
    "ftp.close()\n",
    "\n"
   ]
  },
  {
   "cell_type": "code",
   "execution_count": null,
   "metadata": {},
   "outputs": [],
   "source": []
  }
 ],
 "metadata": {
  "anaconda-cloud": {},
  "kernelspec": {
   "display_name": "Python 3",
   "language": "python",
   "name": "python3"
  },
  "language_info": {
   "codemirror_mode": {
    "name": "ipython",
    "version": 3
   },
   "file_extension": ".py",
   "mimetype": "text/x-python",
   "name": "python",
   "nbconvert_exporter": "python",
   "pygments_lexer": "ipython3",
   "version": "3.8.6"
  }
 },
 "nbformat": 4,
 "nbformat_minor": 4
}
