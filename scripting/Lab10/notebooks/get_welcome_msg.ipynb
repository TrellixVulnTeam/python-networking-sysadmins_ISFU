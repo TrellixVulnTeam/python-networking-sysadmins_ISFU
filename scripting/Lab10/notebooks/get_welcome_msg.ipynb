{
  "cells": [
    {
      "cell_type": "code",
      "metadata": {},
      "source": [
        "from ftplib import FTP\n",
        "\n",
        "ftp = FTP('192.168.2.105')\n",
        "ftp.login('student','training')\n",
        "\n",
        "welcome_msg = ftp.getwelcome()\n",
        "print(welcome_msg)\n",
        "\n",
        "ftp.close()\n",
        "\n"
      ],
      "outputs": [],
      "execution_count": null
    }
  ],
  "metadata": {
    "anaconda-cloud": {},
    "kernelspec": {
      "display_name": "Python 3",
      "language": "python",
      "name": "python3"
    },
    "language_info": {
      "codemirror_mode": {
        "name": "ipython",
        "version": 3
      },
      "file_extension": ".py",
      "mimetype": "text/x-python",
      "name": "python",
      "nbconvert_exporter": "python",
      "pygments_lexer": "ipython3",
      "version": "3.6.1"
    }
  },
  "nbformat": 4,
  "nbformat_minor": 4
}