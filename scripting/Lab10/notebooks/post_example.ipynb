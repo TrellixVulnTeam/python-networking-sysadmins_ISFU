{
  "cells": [
    {
      "cell_type": "code",
      "metadata": {},
      "source": [
        "import http.client\n",
        "import json\n",
        "\n",
        "con_obj = http.client.HTTPSConnection('www.httpbin.org')\n",
        "\n",
        "headers_list = {'Content-type': 'application/json'}\n",
        "\n",
        "post_text = {'text': 'Hello World !!'}\n",
        "json_data = json.dumps(post_text)\n",
        "\n",
        "con_obj.request('POST', '/post', json_data, headers_list)\n",
        "\n",
        "response = con_obj.getresponse()\n",
        "print(response.read().decode())\n"
      ],
      "outputs": [],
      "execution_count": null
    }
  ],
  "metadata": {
    "anaconda-cloud": {},
    "kernelspec": {
      "display_name": "Python 3",
      "language": "python",
      "name": "python3"
    },
    "language_info": {
      "codemirror_mode": {
        "name": "ipython",
        "version": 3
      },
      "file_extension": ".py",
      "mimetype": "text/x-python",
      "name": "python",
      "nbconvert_exporter": "python",
      "pygments_lexer": "ipython3",
      "version": "3.6.1"
    }
  },
  "nbformat": 4,
  "nbformat_minor": 4
}