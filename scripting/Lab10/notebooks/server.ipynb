{
  "cells": [
    {
      "cell_type": "code",
      "metadata": {},
      "source": [
        "import socket\n",
        "\n",
        "# get the hostname\n",
        "host = socket.gethostname()\n",
        "port = 5000  # initiate port no above 1024\n",
        "\n",
        "server_socket = socket.socket()  # get instance\n",
        "# look closely. The bind() function takes tuple as argument\n",
        "server_socket.bind((host, port))  # bind host address and port together\n",
        "\n",
        "# configure how many client the server can listen simultaneously\n",
        "server_socket.listen(2)\n",
        "conn, address = server_socket.accept()  # accept new connection\n",
        "print(\"Connection from: \" + str(address))\n",
        "while True:\n",
        "\t# receive data stream. it won't accept data packet greater than 1024 bytes\n",
        "\tdata = conn.recv(1024).decode()\n",
        "\tif not data:\n",
        "\t\t# if data is not received break\n",
        "\t\tbreak\n",
        "\tprint(\"from connected user: \" + str(data))\n",
        "\tdata = input(' -> ')\n",
        "\tconn.send(data.encode())  # send data to the client\n",
        "\n",
        "conn.close()  # close the connection\n",
        "\n"
      ],
      "outputs": [],
      "execution_count": null
    }
  ],
  "metadata": {
    "anaconda-cloud": {},
    "kernelspec": {
      "display_name": "Python 3",
      "language": "python",
      "name": "python3"
    },
    "language_info": {
      "codemirror_mode": {
        "name": "ipython",
        "version": 3
      },
      "file_extension": ".py",
      "mimetype": "text/x-python",
      "name": "python",
      "nbconvert_exporter": "python",
      "pygments_lexer": "ipython3",
      "version": "3.6.1"
    }
  },
  "nbformat": 4,
  "nbformat_minor": 4
}