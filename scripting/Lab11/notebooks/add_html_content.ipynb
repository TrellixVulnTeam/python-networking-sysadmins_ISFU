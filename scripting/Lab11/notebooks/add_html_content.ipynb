{
  "cells": [
    {
      "cell_type": "code",
      "metadata": {},
      "source": [
        "import os\n",
        "import smtplib\n",
        "from email.mime.text import MIMEText\n",
        "from email.mime.multipart import MIMEMultipart\n",
        "import getpass\n",
        "\n",
        "host_name = 'smtp.gmail.com'\n",
        "port = 465\n",
        "\n",
        "sender = 'mansi.joshi990@gmail.com'\n",
        "password = getpass.getpass()\n",
        "receiver = 'kalpesh7402patil@gmail.com'\n",
        "\n",
        "text = MIMEMultipart()\n",
        "text['Subject'] = 'Test HTML Content'\n",
        "text['From'] = sender\n",
        "text['To'] = receiver\n",
        "\n",
        "msg = \"\"\"\\\n",
        "<html>\n",
        "  <body>\n",
        "    <p>Hello there, <br>\n",
        "       Good day !!<br>\n",
        "       <a href=\"http://www.imdb.com\">Home</a> \n",
        "    </p>\n",
        "  </body>\n",
        "</html>\n",
        "\"\"\"\n",
        "html_content = MIMEText(msg, \"html\")\n",
        "text.attach(html_content)\n",
        "\n",
        "s = smtplib.SMTP_SSL(host_name, port)\n",
        "print(\"Attachment sent successfully !!\")\n",
        "s.login(sender, password)\n",
        "s.sendmail(sender, receiver, text.as_string())\n",
        "s.quit()\n"
      ],
      "outputs": [],
      "execution_count": null
    }
  ],
  "metadata": {
    "anaconda-cloud": {},
    "kernelspec": {
      "display_name": "Python 3",
      "language": "python",
      "name": "python3"
    },
    "language_info": {
      "codemirror_mode": {
        "name": "ipython",
        "version": 3
      },
      "file_extension": ".py",
      "mimetype": "text/x-python",
      "name": "python",
      "nbconvert_exporter": "python",
      "pygments_lexer": "ipython3",
      "version": "3.6.1"
    }
  },
  "nbformat": 4,
  "nbformat_minor": 4
}