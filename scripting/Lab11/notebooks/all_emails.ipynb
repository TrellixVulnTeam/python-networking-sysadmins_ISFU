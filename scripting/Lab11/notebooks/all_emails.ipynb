{
  "cells": [
    {
      "cell_type": "code",
      "metadata": {},
      "source": [
        "import poplib\n",
        "\n",
        "pop3_server = 'pop.gmail.com'\n",
        "username = 'Emaild_address'\n",
        "password = getpass.getpass()\n",
        "\n",
        "email_obj = poplib.POP3_SSL(pop3_server)\n",
        "print(email_obj.getwelcome())\n",
        "email_obj.user(username)\n",
        "email_obj.pass_(password)\n",
        "email_stat = email_obj.stat()\n",
        "NumofMsgs = email_stat[0]\n",
        "for i in range(NumofMsgs):\n",
        "\tfor mail in email_obj.retr(i+1)[1]:\n",
        "\t\tprint(mail)\n",
        "\n"
      ],
      "outputs": [],
      "execution_count": null
    }
  ],
  "metadata": {
    "anaconda-cloud": {},
    "kernelspec": {
      "display_name": "Python 3",
      "language": "python",
      "name": "python3"
    },
    "language_info": {
      "codemirror_mode": {
        "name": "ipython",
        "version": 3
      },
      "file_extension": ".py",
      "mimetype": "text/x-python",
      "name": "python",
      "nbconvert_exporter": "python",
      "pygments_lexer": "ipython3",
      "version": "3.6.1"
    }
  },
  "nbformat": 4,
  "nbformat_minor": 4
}