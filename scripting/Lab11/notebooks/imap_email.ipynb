{
  "cells": [
    {
      "cell_type": "code",
      "metadata": {},
      "source": [
        "import imaplib\n",
        "import pprint\n",
        "\n",
        "imap_server = 'imap.gmail.com'\n",
        "username = 'Emaild_address'\n",
        "password = getpass.getpass()\n",
        "\n",
        "imap_obj = imaplib.IMAP4_SSL(imap_server)\n",
        "imap_obj.login(username, password)\n",
        "imap_obj.select('Inbox')\n",
        "temp, data_obj = imap_obj.search(None, 'ALL')\n",
        "for data in data_obj[0].split():\n",
        "\ttemp, data_obj = imap_obj.fetch(data, '(RFC822)')\n",
        "\tprint('Message: {0}\\n'.format(data))\n",
        "\tpprint.pprint(data_obj[0][1])\n",
        "\tbreak\n",
        "imap_obj.close()\n",
        "\n"
      ],
      "outputs": [],
      "execution_count": null
    }
  ],
  "metadata": {
    "anaconda-cloud": {},
    "kernelspec": {
      "display_name": "Python 3",
      "language": "python",
      "name": "python3"
    },
    "language_info": {
      "codemirror_mode": {
        "name": "ipython",
        "version": 3
      },
      "file_extension": ".py",
      "mimetype": "text/x-python",
      "name": "python",
      "nbconvert_exporter": "python",
      "pygments_lexer": "ipython3",
      "version": "3.6.1"
    }
  },
  "nbformat": 4,
  "nbformat_minor": 4
}