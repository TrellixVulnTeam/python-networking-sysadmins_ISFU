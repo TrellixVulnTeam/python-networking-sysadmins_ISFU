{
  "cells": [
    {
      "cell_type": "code",
      "metadata": {},
      "source": [
        "import smtplib\n",
        "import getpass\n",
        "\n",
        "host_name = \"smtp.gmail.com\"\n",
        "port = 465\n",
        "\n",
        "sender = 'mansi.joshi990@gmail.com'\n",
        "receiver = 'kalpesh7402patil@gmail.com'\n",
        "\n",
        "password = getpass.getpass()\n",
        "msg = \"\"\"\\\n",
        "Subject: Test Mail\n",
        "Hello from Sender !!\"\"\"\n",
        "\n",
        "s = smtplib.SMTP_SSL(host_name, port)\n",
        "s.login(sender, password)\n",
        "s.sendmail(sender, receiver, msg)\n",
        "s.quit()\n",
        "\n",
        "print(\"Mail sent successfully\")\n"
      ],
      "outputs": [],
      "execution_count": null
    }
  ],
  "metadata": {
    "anaconda-cloud": {},
    "kernelspec": {
      "display_name": "Python 3",
      "language": "python",
      "name": "python3"
    },
    "language_info": {
      "codemirror_mode": {
        "name": "ipython",
        "version": 3
      },
      "file_extension": ".py",
      "mimetype": "text/x-python",
      "name": "python",
      "nbconvert_exporter": "python",
      "pygments_lexer": "ipython3",
      "version": "3.6.1"
    }
  },
  "nbformat": 4,
  "nbformat_minor": 4
}