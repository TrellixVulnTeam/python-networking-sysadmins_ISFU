{
  "cells": [
    {
      "cell_type": "code",
      "metadata": {},
      "source": [
        "from plotly import tools\n",
        "import plotly\n",
        "import plotly.graph_objs as go\n",
        "\n",
        "trace0 = go.Contour(\n",
        "    z=[[1, 2, 3, 4, 5, 6, 7, 8],\n",
        "       [2, 4, 7, 12, 13, 14, 15, 16],\n",
        "       [3, 1, 6, 11, 12, 13, 16, 17],\n",
        "       [4, 2, 7, 7, 11, 14, 17, 18],\n",
        "       [5, 3, 8, 8, 13, 15, 18, 19],\n",
        "       [7, 4, 10, 9, 16, 18, 20, 19],\n",
        "       [9, 10, 5, 27, 23, 21, 21, 21]],\n",
        "     line=dict(smoothing=0),\n",
        ")\n",
        "\n",
        "trace1 = go.Contour(\n",
        "    z=[[1, 2, 3, 4, 5, 6, 7, 8],\n",
        "       [2, 4, 7, 12, 13, 14, 15, 16],\n",
        "       [3, 1, 6, 11, 12, 13, 16, 17],\n",
        "       [4, 2, 7, 7, 11, 14, 17, 18],\n",
        "       [5, 3, 8, 8, 13, 15, 18, 19],\n",
        "       [7, 4, 10, 9, 16, 18, 20, 19],\n",
        "       [9, 10, 5, 27, 23, 21, 21, 21]],\n",
        "     line=dict(smoothing=0.95),\n",
        ")\n",
        "\n",
        "data = tools.make_subplots(rows=1, cols=2,\n",
        "                          subplot_titles=('Smoothing_not_applied', 'Smoothing_applied'))\n",
        "\n",
        "data.append_trace(trace0, 1, 1)\n",
        "data.append_trace(trace1, 1, 2)\n",
        "\n",
        "plotly.offline.plot(data)\n",
        "\n"
      ],
      "outputs": [],
      "execution_count": null
    }
  ],
  "metadata": {
    "anaconda-cloud": {},
    "kernelspec": {
      "display_name": "Python 3",
      "language": "python",
      "name": "python3"
    },
    "language_info": {
      "codemirror_mode": {
        "name": "ipython",
        "version": 3
      },
      "file_extension": ".py",
      "mimetype": "text/x-python",
      "name": "python",
      "nbconvert_exporter": "python",
      "pygments_lexer": "ipython3",
      "version": "3.6.1"
    }
  },
  "nbformat": 4,
  "nbformat_minor": 4
}