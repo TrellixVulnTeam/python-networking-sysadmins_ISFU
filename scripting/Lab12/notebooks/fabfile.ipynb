{
  "cells": [
    {
      "cell_type": "code",
      "metadata": {},
      "source": [
        "from fabric.api import *\n",
        "\n",
        "env.hosts=[\"host_name@host_ip\"]\n",
        "env.password='your password'\n",
        "\n",
        "def dir():\n",
        "    run('mkdir fabric')\n",
        "    print('Directory named fabric has been created on your host network')\n",
        "\n",
        "def diskspace():\n",
        "    run('df')\n",
        "\n",
        "def check():\n",
        "    host_type()\n",
        "\n"
      ],
      "outputs": [],
      "execution_count": null
    }
  ],
  "metadata": {
    "anaconda-cloud": {},
    "kernelspec": {
      "display_name": "Python 3",
      "language": "python",
      "name": "python3"
    },
    "language_info": {
      "codemirror_mode": {
        "name": "ipython",
        "version": 3
      },
      "file_extension": ".py",
      "mimetype": "text/x-python",
      "name": "python",
      "nbconvert_exporter": "python",
      "pygments_lexer": "ipython3",
      "version": "3.6.1"
    }
  },
  "nbformat": 4,
  "nbformat_minor": 4
}