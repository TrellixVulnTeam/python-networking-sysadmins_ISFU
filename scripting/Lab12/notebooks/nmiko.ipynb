{
  "cells": [
    {
      "cell_type": "code",
      "metadata": {},
      "source": [
        "from netmiko import ConnectHandler\n",
        "\n",
        "remote_device={\n",
        "    'device_type': 'cisco_ios',\n",
        "    'ip':  'your remote_device ip address',\n",
        "    'username': 'username',\n",
        "    'password': 'password',\n",
        "}\n",
        "\n",
        "remote_connection = ConnectHandler(**remote_device)\n",
        "#net_connect.find_prompt()\n",
        "\n",
        "for n in range (2,6):\n",
        "      print(\"Creating VLAN \" + str(n))\n",
        "      commands = ['exit','vlan database','vlan ' + str(n), 'exit']\n",
        "      output = remote_connection.send_config_set(commands)\n",
        "      print(output)\n",
        "\n",
        "command = remote_connection.send_command('show vlan-switch brief')\n",
        "print(command)\n",
        "\n"
      ],
      "outputs": [],
      "execution_count": null
    }
  ],
  "metadata": {
    "anaconda-cloud": {},
    "kernelspec": {
      "display_name": "Python 3",
      "language": "python",
      "name": "python3"
    },
    "language_info": {
      "codemirror_mode": {
        "name": "ipython",
        "version": 3
      },
      "file_extension": ".py",
      "mimetype": "text/x-python",
      "name": "python",
      "nbconvert_exporter": "python",
      "pygments_lexer": "ipython3",
      "version": "3.6.1"
    }
  },
  "nbformat": 4,
  "nbformat_minor": 4
}