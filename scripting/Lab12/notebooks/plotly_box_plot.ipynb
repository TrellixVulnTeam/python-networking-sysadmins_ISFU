{
  "cells": [
    {
      "cell_type": "code",
      "metadata": {},
      "source": [
        "import random\n",
        "import plotly\n",
        "from numpy import *\n",
        "\n",
        "N = 50.    \n",
        "\n",
        "c = ['hsl('+str(h)+',50%'+',50%)' for h in linspace(0, 360, N)]\n",
        "\n",
        "data_set = [{\n",
        "    'y': 3.5*sin(pi * i/N) + i/N+(1.5+0.5*cos(pi*i/N))*random.rand(20),\n",
        "    'type':'box',\n",
        "    'marker':{'color': c[i]}\n",
        "    } for i in range(int(N))]\n",
        "\n",
        "layout = {'xaxis': {'showgrid':False,'zeroline':False, 'tickangle':45,'showticklabels':False},\n",
        "          'yaxis': {'zeroline':False,'gridcolor':'white'},\n",
        "          'paper_bgcolor': 'rgb(233,233,233)',\n",
        "          'plot_bgcolor': 'rgb(233,233,233)',\n",
        "          }\n",
        "\n",
        "plotly.offline.plot(data_set)\n",
        "\n"
      ],
      "outputs": [],
      "execution_count": null
    }
  ],
  "metadata": {
    "anaconda-cloud": {},
    "kernelspec": {
      "display_name": "Python 3",
      "language": "python",
      "name": "python3"
    },
    "language_info": {
      "codemirror_mode": {
        "name": "ipython",
        "version": 3
      },
      "file_extension": ".py",
      "mimetype": "text/x-python",
      "name": "python",
      "nbconvert_exporter": "python",
      "pygments_lexer": "ipython3",
      "version": "3.6.1"
    }
  },
  "nbformat": 4,
  "nbformat_minor": 4
}