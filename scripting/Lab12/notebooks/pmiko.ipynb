{
  "cells": [
    {
      "cell_type": "code",
      "metadata": {},
      "source": [
        "import paramiko\n",
        "import time\n",
        "\n",
        "ip_address = \"host_ip_address\"\n",
        "usr = \"host_username\"\n",
        "pwd = \"host_password\"\n",
        "\n",
        "c = paramiko.SSHClient()\n",
        "c.set_missing_host_key_policy(paramiko.AutoAddPolicy())\n",
        "c.connect(hostname=ip_address,username=usr,password=pwd)\n",
        "\n",
        "print(\"SSH connection is successfuly established with \", ip_address)\n",
        "\n",
        "rc = c.invoke_shell()\n",
        "for n in range (2,6):\n",
        "    print(\"Creating VLAN \" + str(n))\n",
        "    rc.send(\"vlan database\\n\")\n",
        "    rc.send(\"vlan \" + str(n) +  \"\\n\")\n",
        "    rc.send(\"exit\\n\")\n",
        "    time.sleep(0.5)\n",
        "\n",
        "time.sleep(1)\n",
        "output = rc.recv(65535)\n",
        "print(output)\n",
        "c.close\n",
        "\n"
      ],
      "outputs": [],
      "execution_count": null
    }
  ],
  "metadata": {
    "anaconda-cloud": {},
    "kernelspec": {
      "display_name": "Python 3",
      "language": "python",
      "name": "python3"
    },
    "language_info": {
      "codemirror_mode": {
        "name": "ipython",
        "version": 3
      },
      "file_extension": ".py",
      "mimetype": "text/x-python",
      "name": "python",
      "nbconvert_exporter": "python",
      "pygments_lexer": "ipython3",
      "version": "3.6.1"
    }
  },
  "nbformat": 4,
  "nbformat_minor": 4
}