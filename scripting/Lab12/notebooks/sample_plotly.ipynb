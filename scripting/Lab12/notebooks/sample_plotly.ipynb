{
  "cells": [
    {
      "cell_type": "code",
      "metadata": {},
      "source": [
        "import plotly\n",
        "from plotly.graph_objs import Scatter, Layout\n",
        "\n",
        "plotly.offline.plot({\n",
        "    \"data\": [Scatter(x=[1, 4, 3, 4], y=[4, 3, 2, 1])],\n",
        "    \"layout\": Layout(title=\"plotly_sample_plot\")\n",
        "})\n",
        "\n"
      ],
      "outputs": [],
      "execution_count": null
    }
  ],
  "metadata": {
    "anaconda-cloud": {},
    "kernelspec": {
      "display_name": "Python 3",
      "language": "python",
      "name": "python3"
    },
    "language_info": {
      "codemirror_mode": {
        "name": "ipython",
        "version": 3
      },
      "file_extension": ".py",
      "mimetype": "text/x-python",
      "name": "python",
      "nbconvert_exporter": "python",
      "pygments_lexer": "ipython3",
      "version": "3.6.1"
    }
  },
  "nbformat": 4,
  "nbformat_minor": 4
}