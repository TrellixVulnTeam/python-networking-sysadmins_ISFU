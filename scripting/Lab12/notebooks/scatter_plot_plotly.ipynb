{
  "cells": [
    {
      "cell_type": "code",
      "metadata": {},
      "source": [
        "import plotly\n",
        "import plotly.graph_objs as go\n",
        "import numpy as np\n",
        "\n",
        "x_axis = np.random.randn(100)\n",
        "y_axis = np.random.randn(100)\n",
        "\n",
        "trace = go.Scatter(x=x_axis, y=y_axis, mode = 'markers')\n",
        "      \n",
        "data_set = [trace]\n",
        "\n",
        "plotly.offline.plot(data_set, filename='scatter_plot')\n",
        "\n"
      ],
      "outputs": [],
      "execution_count": null
    }
  ],
  "metadata": {
    "anaconda-cloud": {},
    "kernelspec": {
      "display_name": "Python 3",
      "language": "python",
      "name": "python3"
    },
    "language_info": {
      "codemirror_mode": {
        "name": "ipython",
        "version": 3
      },
      "file_extension": ".py",
      "mimetype": "text/x-python",
      "name": "python",
      "nbconvert_exporter": "python",
      "pygments_lexer": "ipython3",
      "version": "3.6.1"
    }
  },
  "nbformat": 4,
  "nbformat_minor": 4
}