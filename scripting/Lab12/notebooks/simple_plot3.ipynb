{
  "cells": [
    {
      "cell_type": "code",
      "metadata": {},
      "source": [
        "import matplotlib.pyplot as plt\n",
        "from matplotlib import style\n",
        "\n",
        "style.use('ggplot')\n",
        "\n",
        "x1 = [0,5,10] \n",
        "y1 = [12,16,6]\n",
        "\n",
        "x2 = [6,9,11]\n",
        "y2 = [6,16,8]\n",
        "\n",
        "plt.figure(1)\n",
        "plt.plot(x1, y1, color = 'g', linewidth=3)\n",
        "plt.title(\"sample plot\")\n",
        "plt.xlabel(\"x axis\")\n",
        "plt.ylabel(\"y axis\")\n",
        "plt.savefig('my_sample_plot1.jpg')\n",
        "\n",
        "plt.figure(2)\n",
        "plt.plot(x2, y2, color = 'r', linewidth=3)\n",
        "plt.xlabel(\"x2 axis\")\n",
        "plt.ylabel(\"y2 axis\")\n",
        "plt.savefig('my_sample_plot2.jpg')\n",
        "plt.show()\n",
        "\n"
      ],
      "outputs": [],
      "execution_count": null
    }
  ],
  "metadata": {
    "anaconda-cloud": {},
    "kernelspec": {
      "display_name": "Python 3",
      "language": "python",
      "name": "python3"
    },
    "language_info": {
      "codemirror_mode": {
        "name": "ipython",
        "version": 3
      },
      "file_extension": ".py",
      "mimetype": "text/x-python",
      "name": "python",
      "nbconvert_exporter": "python",
      "pygments_lexer": "ipython3",
      "version": "3.6.1"
    }
  },
  "nbformat": 4,
  "nbformat_minor": 4
}