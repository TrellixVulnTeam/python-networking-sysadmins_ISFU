{
  "cells": [
    {
      "cell_type": "code",
      "metadata": {},
      "source": [
        "import subprocess\n",
        "import sys\n",
        "\n",
        "HOST=\"your host username@host ip\"\n",
        "COMMAND= \"ls\"\n",
        "\n",
        "ssh_obj = subprocess.Popen([\"ssh\", \"%s\" % HOST, COMMAND],\n",
        "                       shell=False,\n",
        "                       stdout=subprocess.PIPE,\n",
        "                       stderr=subprocess.PIPE)\n",
        "\n",
        "result = ssh_obj.stdout.readlines()\n",
        "if result == []:\n",
        "    err = ssh_obj.stderr.readlines()\n",
        "    print(sys.stderr, \"ERROR: %s\" % err)\n",
        "else:\n",
        "    print(result)\n",
        "\n"
      ],
      "outputs": [],
      "execution_count": null
    }
  ],
  "metadata": {
    "anaconda-cloud": {},
    "kernelspec": {
      "display_name": "Python 3",
      "language": "python",
      "name": "python3"
    },
    "language_info": {
      "codemirror_mode": {
        "name": "ipython",
        "version": 3
      },
      "file_extension": ".py",
      "mimetype": "text/x-python",
      "name": "python",
      "nbconvert_exporter": "python",
      "pygments_lexer": "ipython3",
      "version": "3.6.1"
    }
  },
  "nbformat": 4,
  "nbformat_minor": 4
}