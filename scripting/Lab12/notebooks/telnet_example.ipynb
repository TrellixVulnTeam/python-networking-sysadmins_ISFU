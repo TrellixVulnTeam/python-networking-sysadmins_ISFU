{
  "cells": [
    {
      "cell_type": "code",
      "metadata": {},
      "source": [
        "import telnetlib\n",
        "import getpass\n",
        "import sys\n",
        "\n",
        "HOST_IP = \"your host ip address\"\n",
        "host_user = input(\"Enter your telnet username: \")\n",
        "password = getpass.getpass()\n",
        "\n",
        "t = telnetlib.Telnet(HOST_IP)\n",
        "t.read_until(b\"Username:\")\n",
        "t.write(host_user.encode(\"ascii\") + b\"\\n\")\n",
        "if password:\n",
        "\tt.read_until(b\"Password:\")\n",
        "\tt.write(password.encode(\"ascii\") + b\"\\n\")\n",
        "\n",
        "t.write(b\"enable\\n\")\n",
        "t.write(b\"enter_remote_device_password\\n\") #password of your remote device\n",
        "t.write(b\"conf t\\n\")\n",
        "t.write(b\"int loop 1\\n\")\n",
        "t.write(b\"ip add 10.1.1.1 255.255.255.255\\n\")\n",
        "t.write(b\"int loop 2\\n\")\n",
        "t.write(b\"ip add 20.2.2.2 255.255.255.255\\n\")\n",
        "t.write(b\"end\\n\")\n",
        "t.write(b\"exit\\n\")\n",
        "print(t.read_all().decode(\"ascii\") )\n",
        "\n"
      ],
      "outputs": [],
      "execution_count": null
    }
  ],
  "metadata": {
    "anaconda-cloud": {},
    "kernelspec": {
      "display_name": "Python 3",
      "language": "python",
      "name": "python3"
    },
    "language_info": {
      "codemirror_mode": {
        "name": "ipython",
        "version": 3
      },
      "file_extension": ".py",
      "mimetype": "text/x-python",
      "name": "python",
      "nbconvert_exporter": "python",
      "pygments_lexer": "ipython3",
      "version": "3.6.1"
    }
  },
  "nbformat": 4,
  "nbformat_minor": 4
}