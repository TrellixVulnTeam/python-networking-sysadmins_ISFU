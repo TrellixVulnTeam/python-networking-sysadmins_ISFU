{
  "cells": [
    {
      "cell_type": "code",
      "metadata": {},
      "source": [
        "import MySQLdb as mdb\n",
        "import sys\n",
        "\n",
        "con_obj = mdb.connect('localhost', 'test_user', 'test123', 'test');\n",
        "\n",
        "cur_obj = con_obj.cursor()\n",
        "cur_obj.execute(\"SELECT VERSION()\")\n",
        "\n",
        "version = cur_obj.fetchone()\n",
        "   \n",
        "print (\"Database version : %s \" % version)\n",
        "\n",
        "con_obj.close()\n",
        "\n",
        "\n"
      ],
      "outputs": [],
      "execution_count": null
    }
  ],
  "metadata": {
    "anaconda-cloud": {},
    "kernelspec": {
      "display_name": "Python 3",
      "language": "python",
      "name": "python3"
    },
    "language_info": {
      "codemirror_mode": {
        "name": "ipython",
        "version": 3
      },
      "file_extension": ".py",
      "mimetype": "text/x-python",
      "name": "python",
      "nbconvert_exporter": "python",
      "pygments_lexer": "ipython3",
      "version": "3.6.1"
    }
  },
  "nbformat": 4,
  "nbformat_minor": 4
}