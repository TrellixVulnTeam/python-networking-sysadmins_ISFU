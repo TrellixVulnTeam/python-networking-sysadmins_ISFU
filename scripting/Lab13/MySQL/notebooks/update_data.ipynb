{
 "cells": [
  {
   "cell_type": "code",
   "execution_count": null,
   "metadata": {},
   "outputs": [],
   "source": [
    "import MySQLdb as mdb\n",
    "\n",
    "con_obj = mdb.connect('localhost', 'test_user', 'test123', 'test');\n",
    "\n",
    "cur_obj = con_obj.cursor()\n",
    "\n",
    "cur_obj.execute(\"UPDATE books SET Name = 'Fantastic Beasts' WHERE Id = 1\")\n",
    "cur_obj.execute(\"COMMIT\")\n",
    "\n",
    "try:\n",
    "\tcon_obj.commit()\n",
    "except:\n",
    "\tcon_obj.rollback()\n",
    "\n",
    "\n",
    "\n"
   ]
  },
  {
   "cell_type": "code",
   "execution_count": null,
   "metadata": {},
   "outputs": [],
   "source": []
  },
  {
   "cell_type": "code",
   "execution_count": null,
   "metadata": {},
   "outputs": [],
   "source": []
  }
 ],
 "metadata": {
  "anaconda-cloud": {},
  "kernelspec": {
   "display_name": "Python 3",
   "language": "python",
   "name": "python3"
  },
  "language_info": {
   "codemirror_mode": {
    "name": "ipython",
    "version": 3
   },
   "file_extension": ".py",
   "mimetype": "text/x-python",
   "name": "python",
   "nbconvert_exporter": "python",
   "pygments_lexer": "ipython3",
   "version": "3.8.6"
  }
 },
 "nbformat": 4,
 "nbformat_minor": 4
}
