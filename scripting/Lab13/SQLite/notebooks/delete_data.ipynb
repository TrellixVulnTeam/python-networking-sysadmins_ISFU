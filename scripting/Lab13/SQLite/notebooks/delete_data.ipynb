{
  "cells": [
    {
      "cell_type": "code",
      "metadata": {},
      "source": [
        "import sqlite3\n",
        "\n",
        "con_obj = sqlite3.connect(\"test.db\")\n",
        "with con_obj:\n",
        "\tcur_obj = con_obj.cursor()\n",
        "\tsql = \"\"\"\n",
        "\t\tDELETE FROM books\n",
        "\t\tWHERE author = 'John Smith'\n",
        "\t\t\"\"\"\n",
        "\tcur_obj.execute(sql)\n",
        "print(\"Data deleted successfully !!\")\n",
        "\n"
      ],
      "outputs": [],
      "execution_count": null
    }
  ],
  "metadata": {
    "anaconda-cloud": {},
    "kernelspec": {
      "display_name": "Python 3",
      "language": "python",
      "name": "python3"
    },
    "language_info": {
      "codemirror_mode": {
        "name": "ipython",
        "version": 3
      },
      "file_extension": ".py",
      "mimetype": "text/x-python",
      "name": "python",
      "nbconvert_exporter": "python",
      "pygments_lexer": "ipython3",
      "version": "3.6.1"
    }
  },
  "nbformat": 4,
  "nbformat_minor": 4
}