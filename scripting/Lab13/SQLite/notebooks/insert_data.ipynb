{
  "cells": [
    {
      "cell_type": "code",
      "metadata": {},
      "source": [
        "import sqlite3\n",
        "\n",
        "con_obj = sqlite3.connect(\"test.db\")\n",
        "with con_obj:\n",
        "\tcur_obj = con_obj.cursor()\n",
        "\n",
        "\tcur_obj.execute(\"INSERT INTO books VALUES ('Pride and Prejudice', 'Jane Austen')\")\n",
        "\tcur_obj.execute(\"INSERT INTO books VALUES ('Harry Potter', 'J.K Rowling')\")\n",
        "\tcur_obj.execute(\"INSERT INTO books VALUES ('The Lord of the Rings', 'J. R. R. Tolkien')\")\n",
        "\tcur_obj.execute(\"INSERT INTO books VALUES ('Murder on the Orient Express', 'Agatha Christie')\")\n",
        "\tcur_obj.execute(\"INSERT INTO books VALUES ('A Study in Scarlet', 'Arthur Conan Doyle')\")\n",
        "\tcon_obj.commit()\n",
        "\n",
        "print(\"Data inserted Successfully !!\")\n"
      ],
      "outputs": [],
      "execution_count": null
    }
  ],
  "metadata": {
    "anaconda-cloud": {},
    "kernelspec": {
      "display_name": "Python 3",
      "language": "python",
      "name": "python3"
    },
    "language_info": {
      "codemirror_mode": {
        "name": "ipython",
        "version": 3
      },
      "file_extension": ".py",
      "mimetype": "text/x-python",
      "name": "python",
      "nbconvert_exporter": "python",
      "pygments_lexer": "ipython3",
      "version": "3.6.1"
    }
  },
  "nbformat": 4,
  "nbformat_minor": 4
}