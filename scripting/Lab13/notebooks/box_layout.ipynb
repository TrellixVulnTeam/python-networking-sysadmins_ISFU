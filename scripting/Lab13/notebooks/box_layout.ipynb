{
  "cells": [
    {
      "cell_type": "code",
      "metadata": {},
      "source": [
        "from PyQt5.QtWidgets import QApplication, QWidget, QPushButton, QVBoxLayout\n",
        "\n",
        "appl = QApplication([])\n",
        "\n",
        "make_window = QWidget()\n",
        "l = QVBoxLayout()\n",
        "\n",
        "l.addWidget(QPushButton('Button 1'))\n",
        "l.addWidget(QPushButton('Button 2'))\n",
        "\n",
        "make_window.setLayout(l)\n",
        "make_window.show()\n",
        "\n",
        "appl.exec_()\n"
      ],
      "outputs": [],
      "execution_count": null
    }
  ],
  "metadata": {
    "anaconda-cloud": {},
    "kernelspec": {
      "display_name": "Python 3",
      "language": "python",
      "name": "python3"
    },
    "language_info": {
      "codemirror_mode": {
        "name": "ipython",
        "version": 3
      },
      "file_extension": ".py",
      "mimetype": "text/x-python",
      "name": "python",
      "nbconvert_exporter": "python",
      "pygments_lexer": "ipython3",
      "version": "3.6.1"
    }
  },
  "nbformat": 4,
  "nbformat_minor": 4
}