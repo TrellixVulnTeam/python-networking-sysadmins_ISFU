{
  "cells": [
    {
      "cell_type": "code",
      "metadata": {},
      "source": [
        "import sys\n",
        "from PyQt5.QtWidgets import QApplication, QLabel, QPushButton, QWidget\n",
        "from PyQt5.QtCore import pyqtSlot\n",
        "from PyQt5.QtGui import QIcon\n",
        "\n",
        "class simple_app(QWidget):\n",
        "\n",
        "\tdef __init__(self):\n",
        "\t\tsuper().__init__()\n",
        "\t\tself.title = 'Main app window'\n",
        "\t\tself.left = 20\n",
        "\t\tself.top = 20\n",
        "\t\tself.height = 300\n",
        "\t\tself.width = 400\n",
        "\t\tself.app_initialize()\n",
        "\t\t\n",
        "\n",
        "\tdef app_initialize(self):\n",
        "\t\tself.setWindowTitle(self.title)\n",
        "\t\tself.setGeometry(self.left, self.top, self.height, self.width)\n",
        "\t\tb = QPushButton('Click', self)\n",
        "\t\tb.setToolTip('Click on the button !!')\n",
        "\t\tb.move(100,70)\n",
        "\t\tself.l = QLabel(self)\n",
        "\t\tself.l.resize(100,50)\n",
        "\t\tself.l.move(100,200)\n",
        "\t\tb.clicked.connect(self.on_click)\n",
        "\t\tself.show()\n",
        "\n",
        "\t@pyqtSlot()\n",
        "\tdef on_click(self):\t\t\n",
        "\t\tself.l.setText(\"Hello World\")\n",
        "\n",
        "if __name__ == '__main__':\n",
        "\tappl = QApplication(sys.argv)\n",
        "\tex = simple_app()\n",
        "\tsys.exit(appl.exec_())\n",
        "\n",
        "\n"
      ],
      "outputs": [],
      "execution_count": null
    }
  ],
  "metadata": {
    "anaconda-cloud": {},
    "kernelspec": {
      "display_name": "Python 3",
      "language": "python",
      "name": "python3"
    },
    "language_info": {
      "codemirror_mode": {
        "name": "ipython",
        "version": 3
      },
      "file_extension": ".py",
      "mimetype": "text/x-python",
      "name": "python",
      "nbconvert_exporter": "python",
      "pygments_lexer": "ipython3",
      "version": "3.6.1"
    }
  },
  "nbformat": 4,
  "nbformat_minor": 4
}