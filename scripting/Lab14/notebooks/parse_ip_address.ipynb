{
  "cells": [
    {
      "cell_type": "code",
      "metadata": {},
      "source": [
        "import re\n",
        "from collections import Counter\n",
        "\n",
        "r_e = r'\\d{1,3}\\.\\d{1,3}\\.\\d{1,3}\\.\\d{1}'\n",
        "\n",
        "with open(\"access.log\") as f:\n",
        "\tprint(\"Reading Apache log file\")\n",
        "\tApache_log = f.read()\n",
        "\tget_ip = re.findall(r_e,Apache_log)\n",
        "\tno_of_ip = Counter(get_ip)\n",
        "\tfor k, v in no_of_ip.items():\n",
        "\t\tprint(\"Available IP Address in log file \" + \"=> \" + str(k) + \" \" + \"Count \"  + \"=> \" + str(v))\n",
        "\n"
      ],
      "outputs": [],
      "execution_count": null
    }
  ],
  "metadata": {
    "anaconda-cloud": {},
    "kernelspec": {
      "display_name": "Python 3",
      "language": "python",
      "name": "python3"
    },
    "language_info": {
      "codemirror_mode": {
        "name": "ipython",
        "version": 3
      },
      "file_extension": ".py",
      "mimetype": "text/x-python",
      "name": "python",
      "nbconvert_exporter": "python",
      "pygments_lexer": "ipython3",
      "version": "3.6.1"
    }
  },
  "nbformat": 4,
  "nbformat_minor": 4
}