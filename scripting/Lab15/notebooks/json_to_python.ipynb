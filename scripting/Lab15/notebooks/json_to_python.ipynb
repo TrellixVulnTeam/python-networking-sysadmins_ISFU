{
  "cells": [
    {
      "cell_type": "code",
      "metadata": {},
      "source": [
        "import json\n",
        "\n",
        "j_obj =  '{ \"Name\":\"Harry\", \"Age\":26, \"Department\":\"HR\"}'\n",
        "\n",
        "p_obj = json.loads(j_obj)\n",
        "\n",
        "print(p_obj)\n",
        "print(p_obj[\"Name\"])\n",
        "print(p_obj[\"Department\"])\n",
        "\n"
      ],
      "outputs": [],
      "execution_count": null
    }
  ],
  "metadata": {
    "anaconda-cloud": {},
    "kernelspec": {
      "display_name": "Python 3",
      "language": "python",
      "name": "python3"
    },
    "language_info": {
      "codemirror_mode": {
        "name": "ipython",
        "version": 3
      },
      "file_extension": ".py",
      "mimetype": "text/x-python",
      "name": "python",
      "nbconvert_exporter": "python",
      "pygments_lexer": "ipython3",
      "version": "3.6.1"
    }
  },
  "nbformat": 4,
  "nbformat_minor": 4
}