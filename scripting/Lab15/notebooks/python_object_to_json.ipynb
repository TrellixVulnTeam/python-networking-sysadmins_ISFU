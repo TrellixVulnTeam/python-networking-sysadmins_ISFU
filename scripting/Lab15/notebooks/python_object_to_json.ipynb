{
  "cells": [
    {
      "cell_type": "code",
      "metadata": {},
      "source": [
        "import json\n",
        "\n",
        "python_dict =  {\"Name\": \"Harry\", \"Age\": 26}\n",
        "python_list =  [\"Mumbai\", \"Pune\"]\n",
        "python_tuple =  (\"Basketball\", \"Cricket\")\n",
        "python_str =  (\"hello_world\")\n",
        "python_int =  (150)\n",
        "python_float =  (59.66)\n",
        "python_T =  (True)\n",
        "python_F =  (False)\n",
        "python_N =  (None)\n",
        "\n",
        "json_obj = json.dumps(python_dict)\n",
        "json_arr1 = json.dumps(python_list)\n",
        "json_arr2 = json.dumps(python_tuple)\n",
        "json_str = json.dumps(python_str)\n",
        "json_num1 = json.dumps(python_int)\n",
        "json_num2 = json.dumps(python_float)\n",
        "json_t = json.dumps(python_T)\n",
        "json_f = json.dumps(python_F)\n",
        "json_n = json.dumps(python_N)\n",
        "\n",
        "print(\"json object : \", json_obj)\n",
        "print(\"jason array1 : \", json_arr1)\n",
        "print(\"json array2 : \", json_arr2)\n",
        "print(\"json string : \", json_str)\n",
        "print(\"json number1 : \", json_num1)\n",
        "print(\"json number2 : \", json_num2)\n",
        "print(\"json true\", json_t)\n",
        "print(\"json false\", json_f)\n",
        "print(\"json null\", json_n)\n",
        "\n"
      ],
      "outputs": [],
      "execution_count": null
    }
  ],
  "metadata": {
    "anaconda-cloud": {},
    "kernelspec": {
      "display_name": "Python 3",
      "language": "python",
      "name": "python3"
    },
    "language_info": {
      "codemirror_mode": {
        "name": "ipython",
        "version": 3
      },
      "file_extension": ".py",
      "mimetype": "text/x-python",
      "name": "python",
      "nbconvert_exporter": "python",
      "pygments_lexer": "ipython3",
      "version": "3.6.1"
    }
  },
  "nbformat": 4,
  "nbformat_minor": 4
}