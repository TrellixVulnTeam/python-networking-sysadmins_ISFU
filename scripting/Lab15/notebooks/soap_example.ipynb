{
  "cells": [
    {
      "cell_type": "code",
      "metadata": {},
      "source": [
        "import zeep\n",
        "\n",
        "w = 'http://www.soapclient.com/xml/soapresponder.wsdl'\n",
        "c = zeep.Client(wsdl=w)\n",
        "print(c.service.Method1('Hello', 'World'))\n"
      ],
      "outputs": [],
      "execution_count": null
    }
  ],
  "metadata": {
    "anaconda-cloud": {},
    "kernelspec": {
      "display_name": "Python 3",
      "language": "python",
      "name": "python3"
    },
    "language_info": {
      "codemirror_mode": {
        "name": "ipython",
        "version": 3
      },
      "file_extension": ".py",
      "mimetype": "text/x-python",
      "name": "python",
      "nbconvert_exporter": "python",
      "pygments_lexer": "ipython3",
      "version": "3.6.1"
    }
  },
  "nbformat": 4,
  "nbformat_minor": 4
}