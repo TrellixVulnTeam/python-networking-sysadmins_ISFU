{
  "cells": [
    {
      "cell_type": "code",
      "metadata": {},
      "source": [
        "import requests\n",
        "from bs4 import BeautifulSoup\n",
        "\n",
        "page_result = requests.get('https://www.imdb.com/news/top?ref_=nv_nw_tp')\n",
        "parse_obj = BeautifulSoup(page_result.content, 'html.parser')\n",
        "\n",
        "top_news = parse_obj.find(class_='news-article__content')\n",
        "top_news_a_content = top_news.find_all('a')\n",
        "\n",
        "print(top_news_a_content)\n",
        "\n"
      ],
      "outputs": [],
      "execution_count": null
    }
  ],
  "metadata": {
    "anaconda-cloud": {},
    "kernelspec": {
      "display_name": "Python 3",
      "language": "python",
      "name": "python3"
    },
    "language_info": {
      "codemirror_mode": {
        "name": "ipython",
        "version": 3
      },
      "file_extension": ".py",
      "mimetype": "text/x-python",
      "name": "python",
      "nbconvert_exporter": "python",
      "pygments_lexer": "ipython3",
      "version": "3.6.1"
    }
  },
  "nbformat": 4,
  "nbformat_minor": 4
}