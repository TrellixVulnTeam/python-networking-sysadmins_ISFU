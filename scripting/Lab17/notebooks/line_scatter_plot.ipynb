{
  "cells": [
    {
      "cell_type": "code",
      "metadata": {},
      "source": [
        "import plotly\n",
        "import plotly.graph_objs as go\n",
        "import numpy as np\n",
        "\n",
        "x_axis = np.linspace(0, 1, 50)\n",
        "y0_axis = np.random.randn(50)+5\n",
        "y1_axis = np.random.randn(50)\n",
        "y2_axis = np.random.randn(50)-5\n",
        "\n",
        "trace0 = go.Scatter(x = x_axis,y = y0_axis,mode = 'markers',name = 'markers')\n",
        "\n",
        "trace1 = go.Scatter(x = x_axis,y = y1_axis,mode = 'lines+markers',name = 'lines+markers')\n",
        "\n",
        "trace2 = go.Scatter(x = x_axis,y = y2_axis,mode = 'lines',name = 'lines')\n",
        "\n",
        "data_sets = [trace0, trace1, trace2]\n",
        "\n",
        "plotly.offline.plot(data_sets, filename='line_scatter_plot.html')\n"
      ],
      "outputs": [],
      "execution_count": null
    }
  ],
  "metadata": {
    "anaconda-cloud": {},
    "kernelspec": {
      "display_name": "Python 3",
      "language": "python",
      "name": "python3"
    },
    "language_info": {
      "codemirror_mode": {
        "name": "ipython",
        "version": 3
      },
      "file_extension": ".py",
      "mimetype": "text/x-python",
      "name": "python",
      "nbconvert_exporter": "python",
      "pygments_lexer": "ipython3",
      "version": "3.6.1"
    }
  },
  "nbformat": 4,
  "nbformat_minor": 4
}