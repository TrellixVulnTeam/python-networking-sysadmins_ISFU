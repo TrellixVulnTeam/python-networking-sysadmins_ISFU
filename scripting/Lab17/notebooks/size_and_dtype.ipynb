{
  "cells": [
    {
      "cell_type": "code",
      "metadata": {},
      "source": [
        "import numpy as np\n",
        "\n",
        "my_list1 = [1,2,3,4]\n",
        "my_list2 = [11,22,33,44]\n",
        "\n",
        "my_lists = [my_list1,my_list2]\n",
        "\n",
        "my_array = np.array(my_lists)\n",
        "\n",
        "print(my_array)\n",
        "\n",
        "size = my_array.shape\n",
        "print(size)\n",
        "\n",
        "data_type = my_array.dtype\n",
        "print(data_type)\n",
        "\n"
      ],
      "outputs": [],
      "execution_count": null
    }
  ],
  "metadata": {
    "anaconda-cloud": {},
    "kernelspec": {
      "display_name": "Python 3",
      "language": "python",
      "name": "python3"
    },
    "language_info": {
      "codemirror_mode": {
        "name": "ipython",
        "version": 3
      },
      "file_extension": ".py",
      "mimetype": "text/x-python",
      "name": "python",
      "nbconvert_exporter": "python",
      "pygments_lexer": "ipython3",
      "version": "3.6.1"
    }
  },
  "nbformat": 4,
  "nbformat_minor": 4
}