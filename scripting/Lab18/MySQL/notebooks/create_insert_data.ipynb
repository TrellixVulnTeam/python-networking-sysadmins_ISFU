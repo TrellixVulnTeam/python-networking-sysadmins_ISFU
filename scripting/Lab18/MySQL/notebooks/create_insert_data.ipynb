{
  "cells": [
    {
      "cell_type": "code",
      "metadata": {},
      "source": [
        "import MySQLdb as mdb\n",
        "\n",
        "con_obj = mdb.connect('localhost', 'test_user', 'test123', 'test')\n",
        "\n",
        "with con_obj:\n",
        "    \n",
        "\tcur_obj = con_obj.cursor()\n",
        "\tcur_obj.execute(\"DROP TABLE IF EXISTS books\")\n",
        "\n",
        "\tcur_obj.execute(\"CREATE TABLE books(Id INT PRIMARY KEY AUTO_INCREMENT, Name VARCHAR(100))\")\n",
        "\n",
        "\tcur_obj.execute(\"INSERT INTO books(Name) VALUES('Harry Potter')\")\n",
        "\tcur_obj.execute(\"INSERT INTO books(Name) VALUES('Lord of the rings')\")\n",
        "\tcur_obj.execute(\"INSERT INTO books(Name) VALUES('Murder on the Orient Express')\")\n",
        "\tcur_obj.execute(\"INSERT INTO books(Name) VALUES('The adventures of Sherlock Holmes')\")\n",
        "\tcur_obj.execute(\"INSERT INTO books(Name) VALUES('Death on the Nile')\")\n",
        "\n",
        "print(\"Table Created !!\")\n",
        "print(\"Data inserted Successfully !!\")\n",
        "\n",
        "\n"
      ],
      "outputs": [],
      "execution_count": null
    }
  ],
  "metadata": {
    "anaconda-cloud": {},
    "kernelspec": {
      "display_name": "Python 3",
      "language": "python",
      "name": "python3"
    },
    "language_info": {
      "codemirror_mode": {
        "name": "ipython",
        "version": 3
      },
      "file_extension": ".py",
      "mimetype": "text/x-python",
      "name": "python",
      "nbconvert_exporter": "python",
      "pygments_lexer": "ipython3",
      "version": "3.6.1"
    }
  },
  "nbformat": 4,
  "nbformat_minor": 4
}