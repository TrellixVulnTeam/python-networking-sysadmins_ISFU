{
  "cells": [
    {
      "cell_type": "code",
      "metadata": {},
      "source": [
        "import MySQLdb as mdb\n",
        "\n",
        "con_obj = mdb.connect('localhost', 'test_user', 'test123', 'test');\n",
        "\n",
        "cur_obj = con_obj.cursor()\n",
        "\n",
        "cur_obj.execute(\"UPDATE books SET Name = 'Fantastic Beasts' WHERE Id = 1\")\n",
        "\n",
        "try:\n",
        "\tcon_obj.commit()\n",
        "except:\n",
        "\tcon_obj.rollback()\n",
        "\n",
        "\n",
        "\n"
      ],
      "outputs": [],
      "execution_count": null
    }
  ],
  "metadata": {
    "anaconda-cloud": {},
    "kernelspec": {
      "display_name": "Python 3",
      "language": "python",
      "name": "python3"
    },
    "language_info": {
      "codemirror_mode": {
        "name": "ipython",
        "version": 3
      },
      "file_extension": ".py",
      "mimetype": "text/x-python",
      "name": "python",
      "nbconvert_exporter": "python",
      "pygments_lexer": "ipython3",
      "version": "3.6.1"
    }
  },
  "nbformat": 4,
  "nbformat_minor": 4
}