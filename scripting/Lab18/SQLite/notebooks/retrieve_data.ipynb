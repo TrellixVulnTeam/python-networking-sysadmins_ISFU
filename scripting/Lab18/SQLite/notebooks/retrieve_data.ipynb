{
  "cells": [
    {
      "cell_type": "code",
      "metadata": {},
      "source": [
        "import sqlite3\n",
        "\n",
        "con_obj = sqlite3.connect('test.db')\n",
        "\n",
        "cur_obj = con_obj.execute(\"SELECT title, author from books\")\n",
        "for row in cur_obj:\n",
        "\tprint (\"Title = \", row[0])\n",
        "\tprint (\"Author = \", row[1], \"\\n\")\n",
        "\n",
        "con_obj.close()\n",
        "\n"
      ],
      "outputs": [],
      "execution_count": null
    }
  ],
  "metadata": {
    "anaconda-cloud": {},
    "kernelspec": {
      "display_name": "Python 3",
      "language": "python",
      "name": "python3"
    },
    "language_info": {
      "codemirror_mode": {
        "name": "ipython",
        "version": 3
      },
      "file_extension": ".py",
      "mimetype": "text/x-python",
      "name": "python",
      "nbconvert_exporter": "python",
      "pygments_lexer": "ipython3",
      "version": "3.6.1"
    }
  },
  "nbformat": 4,
  "nbformat_minor": 4
}